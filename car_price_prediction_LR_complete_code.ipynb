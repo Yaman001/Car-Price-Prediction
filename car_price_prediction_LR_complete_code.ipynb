{
 "cells": [
  {
   "cell_type": "code",
   "execution_count": 34,
   "metadata": {
    "colab": {
     "base_uri": "https://localhost:8080/"
    },
    "executionInfo": {
     "elapsed": 24,
     "status": "ok",
     "timestamp": 1651825464917,
     "user": {
      "displayName": "Mahesh Anand",
      "userId": "06788086636039591358"
     },
     "user_tz": -330
    },
    "id": "LZbqKzJACHLK",
    "outputId": "bf601539-d749-4055-db78-3a206ac90243"
   },
   "outputs": [],
   "source": [
    "import numpy as np\n",
    "import pandas as pd\n",
    "import matplotlib.pyplot as plt\n",
    "%matplotlib inline\n",
    "import seaborn as sns\n",
    "from sklearn.linear_model import LinearRegression\n",
    "from sklearn.preprocessing import StandardScaler\n",
    "from sklearn import model_selection\n",
    "import statsmodels.formula.api as smf"
   ]
  },
  {
   "cell_type": "code",
   "execution_count": 35,
   "metadata": {
    "colab": {
     "base_uri": "https://localhost:8080/"
    },
    "executionInfo": {
     "elapsed": 34599,
     "status": "ok",
     "timestamp": 1651825499502,
     "user": {
      "displayName": "Mahesh Anand",
      "userId": "06788086636039591358"
     },
     "user_tz": -330
    },
    "id": "8y8V4GbSjhEi",
    "outputId": "188caa65-e48c-4727-806f-24dde40cb65d"
   },
   "outputs": [],
   "source": [
    "#from google.colab import drive\n",
    "#drive.mount('/content/drive')"
   ]
  },
  {
   "cell_type": "code",
   "execution_count": 36,
   "metadata": {
    "colab": {
     "base_uri": "https://localhost:8080/",
     "height": 386
    },
    "executionInfo": {
     "elapsed": 663,
     "status": "ok",
     "timestamp": 1651825500156,
     "user": {
      "displayName": "Mahesh Anand",
      "userId": "06788086636039591358"
     },
     "user_tz": -330
    },
    "id": "hoXMFxqzCHLU",
    "outputId": "13d71617-c885-4219-cb63-a33d6bb535d6"
   },
   "outputs": [
    {
     "data": {
      "text/html": [
       "<div>\n",
       "<style scoped>\n",
       "    .dataframe tbody tr th:only-of-type {\n",
       "        vertical-align: middle;\n",
       "    }\n",
       "\n",
       "    .dataframe tbody tr th {\n",
       "        vertical-align: top;\n",
       "    }\n",
       "\n",
       "    .dataframe thead th {\n",
       "        text-align: right;\n",
       "    }\n",
       "</style>\n",
       "<table border=\"1\" class=\"dataframe\">\n",
       "  <thead>\n",
       "    <tr style=\"text-align: right;\">\n",
       "      <th></th>\n",
       "      <th>Manufacturer</th>\n",
       "      <th>Model</th>\n",
       "      <th>Type</th>\n",
       "      <th>Min.Price</th>\n",
       "      <th>Price</th>\n",
       "      <th>Max.Price</th>\n",
       "      <th>MPG.city</th>\n",
       "      <th>MPG.highway</th>\n",
       "      <th>AirBags</th>\n",
       "      <th>DriveTrain</th>\n",
       "      <th>...</th>\n",
       "      <th>Passengers</th>\n",
       "      <th>Length</th>\n",
       "      <th>Wheelbase</th>\n",
       "      <th>Width</th>\n",
       "      <th>Turn.circle</th>\n",
       "      <th>Rear.seat.room</th>\n",
       "      <th>Luggage.room</th>\n",
       "      <th>Weight</th>\n",
       "      <th>Origin</th>\n",
       "      <th>Make</th>\n",
       "    </tr>\n",
       "  </thead>\n",
       "  <tbody>\n",
       "    <tr>\n",
       "      <th>1</th>\n",
       "      <td>Acura</td>\n",
       "      <td>Integra</td>\n",
       "      <td>Small</td>\n",
       "      <td>12.9</td>\n",
       "      <td>15.9</td>\n",
       "      <td>18.8</td>\n",
       "      <td>25</td>\n",
       "      <td>31</td>\n",
       "      <td>None</td>\n",
       "      <td>Front</td>\n",
       "      <td>...</td>\n",
       "      <td>5</td>\n",
       "      <td>177</td>\n",
       "      <td>102</td>\n",
       "      <td>68</td>\n",
       "      <td>37</td>\n",
       "      <td>26.5</td>\n",
       "      <td>11.0</td>\n",
       "      <td>2705</td>\n",
       "      <td>non-USA</td>\n",
       "      <td>Acura Integra</td>\n",
       "    </tr>\n",
       "    <tr>\n",
       "      <th>2</th>\n",
       "      <td>Acura</td>\n",
       "      <td>Legend</td>\n",
       "      <td>Midsize</td>\n",
       "      <td>29.2</td>\n",
       "      <td>33.9</td>\n",
       "      <td>38.7</td>\n",
       "      <td>18</td>\n",
       "      <td>25</td>\n",
       "      <td>Driver &amp; Passenger</td>\n",
       "      <td>Front</td>\n",
       "      <td>...</td>\n",
       "      <td>5</td>\n",
       "      <td>195</td>\n",
       "      <td>115</td>\n",
       "      <td>71</td>\n",
       "      <td>38</td>\n",
       "      <td>30.0</td>\n",
       "      <td>15.0</td>\n",
       "      <td>3560</td>\n",
       "      <td>non-USA</td>\n",
       "      <td>Acura Legend</td>\n",
       "    </tr>\n",
       "    <tr>\n",
       "      <th>3</th>\n",
       "      <td>Audi</td>\n",
       "      <td>90</td>\n",
       "      <td>Compact</td>\n",
       "      <td>25.9</td>\n",
       "      <td>29.1</td>\n",
       "      <td>32.3</td>\n",
       "      <td>20</td>\n",
       "      <td>26</td>\n",
       "      <td>Driver only</td>\n",
       "      <td>Front</td>\n",
       "      <td>...</td>\n",
       "      <td>5</td>\n",
       "      <td>180</td>\n",
       "      <td>102</td>\n",
       "      <td>67</td>\n",
       "      <td>37</td>\n",
       "      <td>28.0</td>\n",
       "      <td>14.0</td>\n",
       "      <td>3375</td>\n",
       "      <td>non-USA</td>\n",
       "      <td>Audi 90</td>\n",
       "    </tr>\n",
       "    <tr>\n",
       "      <th>4</th>\n",
       "      <td>Audi</td>\n",
       "      <td>100</td>\n",
       "      <td>Midsize</td>\n",
       "      <td>30.8</td>\n",
       "      <td>37.7</td>\n",
       "      <td>44.6</td>\n",
       "      <td>19</td>\n",
       "      <td>26</td>\n",
       "      <td>Driver &amp; Passenger</td>\n",
       "      <td>Front</td>\n",
       "      <td>...</td>\n",
       "      <td>6</td>\n",
       "      <td>193</td>\n",
       "      <td>106</td>\n",
       "      <td>70</td>\n",
       "      <td>37</td>\n",
       "      <td>31.0</td>\n",
       "      <td>17.0</td>\n",
       "      <td>3405</td>\n",
       "      <td>non-USA</td>\n",
       "      <td>Audi 100</td>\n",
       "    </tr>\n",
       "    <tr>\n",
       "      <th>5</th>\n",
       "      <td>BMW</td>\n",
       "      <td>535i</td>\n",
       "      <td>Midsize</td>\n",
       "      <td>23.7</td>\n",
       "      <td>30.0</td>\n",
       "      <td>36.2</td>\n",
       "      <td>22</td>\n",
       "      <td>30</td>\n",
       "      <td>Driver only</td>\n",
       "      <td>Rear</td>\n",
       "      <td>...</td>\n",
       "      <td>4</td>\n",
       "      <td>186</td>\n",
       "      <td>109</td>\n",
       "      <td>69</td>\n",
       "      <td>39</td>\n",
       "      <td>27.0</td>\n",
       "      <td>13.0</td>\n",
       "      <td>3640</td>\n",
       "      <td>non-USA</td>\n",
       "      <td>BMW 535i</td>\n",
       "    </tr>\n",
       "  </tbody>\n",
       "</table>\n",
       "<p>5 rows × 27 columns</p>\n",
       "</div>"
      ],
      "text/plain": [
       "  Manufacturer    Model     Type  Min.Price  Price  Max.Price  MPG.city  \\\n",
       "1        Acura  Integra    Small       12.9   15.9       18.8        25   \n",
       "2        Acura   Legend  Midsize       29.2   33.9       38.7        18   \n",
       "3         Audi       90  Compact       25.9   29.1       32.3        20   \n",
       "4         Audi      100  Midsize       30.8   37.7       44.6        19   \n",
       "5          BMW     535i  Midsize       23.7   30.0       36.2        22   \n",
       "\n",
       "   MPG.highway             AirBags DriveTrain  ... Passengers  Length  \\\n",
       "1           31                None      Front  ...          5     177   \n",
       "2           25  Driver & Passenger      Front  ...          5     195   \n",
       "3           26         Driver only      Front  ...          5     180   \n",
       "4           26  Driver & Passenger      Front  ...          6     193   \n",
       "5           30         Driver only       Rear  ...          4     186   \n",
       "\n",
       "   Wheelbase  Width  Turn.circle Rear.seat.room  Luggage.room  Weight  \\\n",
       "1        102     68           37           26.5          11.0    2705   \n",
       "2        115     71           38           30.0          15.0    3560   \n",
       "3        102     67           37           28.0          14.0    3375   \n",
       "4        106     70           37           31.0          17.0    3405   \n",
       "5        109     69           39           27.0          13.0    3640   \n",
       "\n",
       "    Origin           Make  \n",
       "1  non-USA  Acura Integra  \n",
       "2  non-USA   Acura Legend  \n",
       "3  non-USA        Audi 90  \n",
       "4  non-USA       Audi 100  \n",
       "5  non-USA       BMW 535i  \n",
       "\n",
       "[5 rows x 27 columns]"
      ]
     },
     "execution_count": 36,
     "metadata": {},
     "output_type": "execute_result"
    }
   ],
   "source": [
    "A=pd.read_csv('car_sales.csv',index_col=0)\n",
    "A.head()"
   ]
  },
  {
   "cell_type": "code",
   "execution_count": 37,
   "metadata": {
    "colab": {
     "base_uri": "https://localhost:8080/"
    },
    "executionInfo": {
     "elapsed": 932,
     "status": "ok",
     "timestamp": 1649582162124,
     "user": {
      "displayName": "Mahesh Anand",
      "userId": "06788086636039591358"
     },
     "user_tz": -330
    },
    "id": "ypMxa15Ufp5r",
    "outputId": "fe596198-4559-4c69-f0ce-5bf01d7494d0"
   },
   "outputs": [
    {
     "data": {
      "text/plain": [
       "(93, 27)"
      ]
     },
     "execution_count": 37,
     "metadata": {},
     "output_type": "execute_result"
    }
   ],
   "source": [
    "A.shape"
   ]
  },
  {
   "cell_type": "code",
   "execution_count": 38,
   "metadata": {
    "colab": {
     "base_uri": "https://localhost:8080/"
    },
    "executionInfo": {
     "elapsed": 630,
     "status": "ok",
     "timestamp": 1649582215567,
     "user": {
      "displayName": "Mahesh Anand",
      "userId": "06788086636039591358"
     },
     "user_tz": -330
    },
    "id": "otyYP3JIwuqH",
    "outputId": "2e32e670-3a7c-46a2-85dc-5c7f14923242"
   },
   "outputs": [
    {
     "name": "stdout",
     "output_type": "stream",
     "text": [
      "<class 'pandas.core.frame.DataFrame'>\n",
      "Int64Index: 93 entries, 1 to 93\n",
      "Data columns (total 27 columns):\n",
      " #   Column              Non-Null Count  Dtype  \n",
      "---  ------              --------------  -----  \n",
      " 0   Manufacturer        93 non-null     object \n",
      " 1   Model               93 non-null     object \n",
      " 2   Type                93 non-null     object \n",
      " 3   Min.Price           93 non-null     float64\n",
      " 4   Price               93 non-null     float64\n",
      " 5   Max.Price           93 non-null     float64\n",
      " 6   MPG.city            93 non-null     int64  \n",
      " 7   MPG.highway         93 non-null     int64  \n",
      " 8   AirBags             93 non-null     object \n",
      " 9   DriveTrain          93 non-null     object \n",
      " 10  Cylinders           93 non-null     object \n",
      " 11  EngineSize          93 non-null     float64\n",
      " 12  Horsepower          93 non-null     int64  \n",
      " 13  RPM                 93 non-null     int64  \n",
      " 14  Rev.per.mile        93 non-null     int64  \n",
      " 15  Man.trans.avail     93 non-null     object \n",
      " 16  Fuel.tank.capacity  93 non-null     float64\n",
      " 17  Passengers          93 non-null     int64  \n",
      " 18  Length              93 non-null     int64  \n",
      " 19  Wheelbase           93 non-null     int64  \n",
      " 20  Width               93 non-null     int64  \n",
      " 21  Turn.circle         93 non-null     int64  \n",
      " 22  Rear.seat.room      91 non-null     float64\n",
      " 23  Luggage.room        82 non-null     float64\n",
      " 24  Weight              93 non-null     int64  \n",
      " 25  Origin              93 non-null     object \n",
      " 26  Make                93 non-null     object \n",
      "dtypes: float64(7), int64(11), object(9)\n",
      "memory usage: 20.3+ KB\n"
     ]
    }
   ],
   "source": [
    "A.info()"
   ]
  },
  {
   "cell_type": "code",
   "execution_count": null,
   "metadata": {
    "id": "Z-OkLSI4wu5Q"
   },
   "outputs": [],
   "source": []
  },
  {
   "cell_type": "code",
   "execution_count": 39,
   "metadata": {
    "id": "iTkxi0kRER_g"
   },
   "outputs": [],
   "source": [
    "#A=A.drop('Manufacturer','Model','Make','',axis=1)"
   ]
  },
  {
   "cell_type": "code",
   "execution_count": 40,
   "metadata": {
    "colab": {
     "base_uri": "https://localhost:8080/"
    },
    "executionInfo": {
     "elapsed": 382,
     "status": "ok",
     "timestamp": 1632818545559,
     "user": {
      "displayName": "Mahesh Anand",
      "photoUrl": "https://lh3.googleusercontent.com/a-/AOh14Ghy47CXBCGfpGm71ElmYPDEY5c3AQB5tdq4ROpemw=s64",
      "userId": "06788086636039591358"
     },
     "user_tz": -330
    },
    "id": "_sHcZL7BIbMG",
    "outputId": "03109dfa-75cf-4840-bd42-c8f43da6bf5c"
   },
   "outputs": [
    {
     "data": {
      "text/plain": [
       "(93, 27)"
      ]
     },
     "execution_count": 40,
     "metadata": {},
     "output_type": "execute_result"
    }
   ],
   "source": [
    "A.shape"
   ]
  },
  {
   "cell_type": "code",
   "execution_count": 41,
   "metadata": {
    "colab": {
     "base_uri": "https://localhost:8080/",
     "height": 678
    },
    "executionInfo": {
     "elapsed": 502,
     "status": "ok",
     "timestamp": 1649582785272,
     "user": {
      "displayName": "Mahesh Anand",
      "userId": "06788086636039591358"
     },
     "user_tz": -330
    },
    "id": "C6--lc0ykdp-",
    "outputId": "77ea29c3-0cbc-4e5c-d9be-b911004e40c5"
   },
   "outputs": [
    {
     "data": {
      "text/html": [
       "<div>\n",
       "<style scoped>\n",
       "    .dataframe tbody tr th:only-of-type {\n",
       "        vertical-align: middle;\n",
       "    }\n",
       "\n",
       "    .dataframe tbody tr th {\n",
       "        vertical-align: top;\n",
       "    }\n",
       "\n",
       "    .dataframe thead th {\n",
       "        text-align: right;\n",
       "    }\n",
       "</style>\n",
       "<table border=\"1\" class=\"dataframe\">\n",
       "  <thead>\n",
       "    <tr style=\"text-align: right;\">\n",
       "      <th></th>\n",
       "      <th>Min.Price</th>\n",
       "      <th>Price</th>\n",
       "      <th>Max.Price</th>\n",
       "      <th>MPG.city</th>\n",
       "      <th>MPG.highway</th>\n",
       "      <th>EngineSize</th>\n",
       "      <th>Horsepower</th>\n",
       "      <th>RPM</th>\n",
       "      <th>Rev.per.mile</th>\n",
       "      <th>Fuel.tank.capacity</th>\n",
       "      <th>Passengers</th>\n",
       "      <th>Length</th>\n",
       "      <th>Wheelbase</th>\n",
       "      <th>Width</th>\n",
       "      <th>Turn.circle</th>\n",
       "      <th>Rear.seat.room</th>\n",
       "      <th>Luggage.room</th>\n",
       "      <th>Weight</th>\n",
       "    </tr>\n",
       "  </thead>\n",
       "  <tbody>\n",
       "    <tr>\n",
       "      <th>Min.Price</th>\n",
       "      <td>1.000000</td>\n",
       "      <td>0.970601</td>\n",
       "      <td>0.906756</td>\n",
       "      <td>-0.622875</td>\n",
       "      <td>-0.579966</td>\n",
       "      <td>0.645488</td>\n",
       "      <td>0.802444</td>\n",
       "      <td>-0.042598</td>\n",
       "      <td>-0.470395</td>\n",
       "      <td>0.635369</td>\n",
       "      <td>0.061236</td>\n",
       "      <td>0.553859</td>\n",
       "      <td>0.516758</td>\n",
       "      <td>0.492878</td>\n",
       "      <td>0.428603</td>\n",
       "      <td>0.376642</td>\n",
       "      <td>0.413485</td>\n",
       "      <td>0.666554</td>\n",
       "    </tr>\n",
       "    <tr>\n",
       "      <th>Price</th>\n",
       "      <td>0.970601</td>\n",
       "      <td>1.000000</td>\n",
       "      <td>0.981580</td>\n",
       "      <td>-0.594562</td>\n",
       "      <td>-0.560680</td>\n",
       "      <td>0.597425</td>\n",
       "      <td>0.788218</td>\n",
       "      <td>-0.004955</td>\n",
       "      <td>-0.426395</td>\n",
       "      <td>0.619480</td>\n",
       "      <td>0.057860</td>\n",
       "      <td>0.503628</td>\n",
       "      <td>0.500864</td>\n",
       "      <td>0.456028</td>\n",
       "      <td>0.392590</td>\n",
       "      <td>0.311499</td>\n",
       "      <td>0.366569</td>\n",
       "      <td>0.647179</td>\n",
       "    </tr>\n",
       "    <tr>\n",
       "      <th>Max.Price</th>\n",
       "      <td>0.906756</td>\n",
       "      <td>0.981580</td>\n",
       "      <td>1.000000</td>\n",
       "      <td>-0.547811</td>\n",
       "      <td>-0.522561</td>\n",
       "      <td>0.535012</td>\n",
       "      <td>0.744445</td>\n",
       "      <td>0.025015</td>\n",
       "      <td>-0.374024</td>\n",
       "      <td>0.581294</td>\n",
       "      <td>0.053216</td>\n",
       "      <td>0.442933</td>\n",
       "      <td>0.467501</td>\n",
       "      <td>0.408414</td>\n",
       "      <td>0.347785</td>\n",
       "      <td>0.247260</td>\n",
       "      <td>0.315315</td>\n",
       "      <td>0.605142</td>\n",
       "    </tr>\n",
       "    <tr>\n",
       "      <th>MPG.city</th>\n",
       "      <td>-0.622875</td>\n",
       "      <td>-0.594562</td>\n",
       "      <td>-0.547811</td>\n",
       "      <td>1.000000</td>\n",
       "      <td>0.943936</td>\n",
       "      <td>-0.710003</td>\n",
       "      <td>-0.672636</td>\n",
       "      <td>0.363045</td>\n",
       "      <td>0.695857</td>\n",
       "      <td>-0.813144</td>\n",
       "      <td>-0.416856</td>\n",
       "      <td>-0.666239</td>\n",
       "      <td>-0.667108</td>\n",
       "      <td>-0.720534</td>\n",
       "      <td>-0.666389</td>\n",
       "      <td>-0.384347</td>\n",
       "      <td>-0.494894</td>\n",
       "      <td>-0.843139</td>\n",
       "    </tr>\n",
       "    <tr>\n",
       "      <th>MPG.highway</th>\n",
       "      <td>-0.579966</td>\n",
       "      <td>-0.560680</td>\n",
       "      <td>-0.522561</td>\n",
       "      <td>0.943936</td>\n",
       "      <td>1.000000</td>\n",
       "      <td>-0.626795</td>\n",
       "      <td>-0.619044</td>\n",
       "      <td>0.313469</td>\n",
       "      <td>0.587497</td>\n",
       "      <td>-0.786039</td>\n",
       "      <td>-0.466386</td>\n",
       "      <td>-0.542897</td>\n",
       "      <td>-0.615384</td>\n",
       "      <td>-0.640359</td>\n",
       "      <td>-0.593683</td>\n",
       "      <td>-0.366684</td>\n",
       "      <td>-0.371629</td>\n",
       "      <td>-0.810658</td>\n",
       "    </tr>\n",
       "    <tr>\n",
       "      <th>EngineSize</th>\n",
       "      <td>0.645488</td>\n",
       "      <td>0.597425</td>\n",
       "      <td>0.535012</td>\n",
       "      <td>-0.710003</td>\n",
       "      <td>-0.626795</td>\n",
       "      <td>1.000000</td>\n",
       "      <td>0.732120</td>\n",
       "      <td>-0.547898</td>\n",
       "      <td>-0.824009</td>\n",
       "      <td>0.759306</td>\n",
       "      <td>0.372721</td>\n",
       "      <td>0.780283</td>\n",
       "      <td>0.732484</td>\n",
       "      <td>0.867110</td>\n",
       "      <td>0.778464</td>\n",
       "      <td>0.502750</td>\n",
       "      <td>0.680827</td>\n",
       "      <td>0.845075</td>\n",
       "    </tr>\n",
       "    <tr>\n",
       "      <th>Horsepower</th>\n",
       "      <td>0.802444</td>\n",
       "      <td>0.788218</td>\n",
       "      <td>0.744445</td>\n",
       "      <td>-0.672636</td>\n",
       "      <td>-0.619044</td>\n",
       "      <td>0.732120</td>\n",
       "      <td>1.000000</td>\n",
       "      <td>0.036688</td>\n",
       "      <td>-0.600314</td>\n",
       "      <td>0.711790</td>\n",
       "      <td>0.009264</td>\n",
       "      <td>0.550865</td>\n",
       "      <td>0.486854</td>\n",
       "      <td>0.644413</td>\n",
       "      <td>0.561216</td>\n",
       "      <td>0.256732</td>\n",
       "      <td>0.359217</td>\n",
       "      <td>0.738798</td>\n",
       "    </tr>\n",
       "    <tr>\n",
       "      <th>RPM</th>\n",
       "      <td>-0.042598</td>\n",
       "      <td>-0.004955</td>\n",
       "      <td>0.025015</td>\n",
       "      <td>0.363045</td>\n",
       "      <td>0.313469</td>\n",
       "      <td>-0.547898</td>\n",
       "      <td>0.036688</td>\n",
       "      <td>1.000000</td>\n",
       "      <td>0.494764</td>\n",
       "      <td>-0.333345</td>\n",
       "      <td>-0.467138</td>\n",
       "      <td>-0.441249</td>\n",
       "      <td>-0.467812</td>\n",
       "      <td>-0.539721</td>\n",
       "      <td>-0.505651</td>\n",
       "      <td>-0.342175</td>\n",
       "      <td>-0.524845</td>\n",
       "      <td>-0.427931</td>\n",
       "    </tr>\n",
       "    <tr>\n",
       "      <th>Rev.per.mile</th>\n",
       "      <td>-0.470395</td>\n",
       "      <td>-0.426395</td>\n",
       "      <td>-0.374024</td>\n",
       "      <td>0.695857</td>\n",
       "      <td>0.587497</td>\n",
       "      <td>-0.824009</td>\n",
       "      <td>-0.600314</td>\n",
       "      <td>0.494764</td>\n",
       "      <td>1.000000</td>\n",
       "      <td>-0.609710</td>\n",
       "      <td>-0.334976</td>\n",
       "      <td>-0.690233</td>\n",
       "      <td>-0.636824</td>\n",
       "      <td>-0.780460</td>\n",
       "      <td>-0.733160</td>\n",
       "      <td>-0.377010</td>\n",
       "      <td>-0.592792</td>\n",
       "      <td>-0.735264</td>\n",
       "    </tr>\n",
       "    <tr>\n",
       "      <th>Fuel.tank.capacity</th>\n",
       "      <td>0.635369</td>\n",
       "      <td>0.619480</td>\n",
       "      <td>0.581294</td>\n",
       "      <td>-0.813144</td>\n",
       "      <td>-0.786039</td>\n",
       "      <td>0.759306</td>\n",
       "      <td>0.711790</td>\n",
       "      <td>-0.333345</td>\n",
       "      <td>-0.609710</td>\n",
       "      <td>1.000000</td>\n",
       "      <td>0.472095</td>\n",
       "      <td>0.690461</td>\n",
       "      <td>0.757674</td>\n",
       "      <td>0.798719</td>\n",
       "      <td>0.671343</td>\n",
       "      <td>0.509689</td>\n",
       "      <td>0.613437</td>\n",
       "      <td>0.894018</td>\n",
       "    </tr>\n",
       "    <tr>\n",
       "      <th>Passengers</th>\n",
       "      <td>0.061236</td>\n",
       "      <td>0.057860</td>\n",
       "      <td>0.053216</td>\n",
       "      <td>-0.416856</td>\n",
       "      <td>-0.466386</td>\n",
       "      <td>0.372721</td>\n",
       "      <td>0.009264</td>\n",
       "      <td>-0.467138</td>\n",
       "      <td>-0.334976</td>\n",
       "      <td>0.472095</td>\n",
       "      <td>1.000000</td>\n",
       "      <td>0.485294</td>\n",
       "      <td>0.694054</td>\n",
       "      <td>0.489979</td>\n",
       "      <td>0.449025</td>\n",
       "      <td>0.694134</td>\n",
       "      <td>0.653317</td>\n",
       "      <td>0.553273</td>\n",
       "    </tr>\n",
       "    <tr>\n",
       "      <th>Length</th>\n",
       "      <td>0.553859</td>\n",
       "      <td>0.503628</td>\n",
       "      <td>0.442933</td>\n",
       "      <td>-0.666239</td>\n",
       "      <td>-0.542897</td>\n",
       "      <td>0.780283</td>\n",
       "      <td>0.550865</td>\n",
       "      <td>-0.441249</td>\n",
       "      <td>-0.690233</td>\n",
       "      <td>0.690461</td>\n",
       "      <td>0.485294</td>\n",
       "      <td>1.000000</td>\n",
       "      <td>0.823650</td>\n",
       "      <td>0.822148</td>\n",
       "      <td>0.738955</td>\n",
       "      <td>0.549958</td>\n",
       "      <td>0.712962</td>\n",
       "      <td>0.806274</td>\n",
       "    </tr>\n",
       "    <tr>\n",
       "      <th>Wheelbase</th>\n",
       "      <td>0.516758</td>\n",
       "      <td>0.500864</td>\n",
       "      <td>0.467501</td>\n",
       "      <td>-0.667108</td>\n",
       "      <td>-0.615384</td>\n",
       "      <td>0.732484</td>\n",
       "      <td>0.486854</td>\n",
       "      <td>-0.467812</td>\n",
       "      <td>-0.636824</td>\n",
       "      <td>0.757674</td>\n",
       "      <td>0.694054</td>\n",
       "      <td>0.823650</td>\n",
       "      <td>1.000000</td>\n",
       "      <td>0.807213</td>\n",
       "      <td>0.723324</td>\n",
       "      <td>0.667259</td>\n",
       "      <td>0.734127</td>\n",
       "      <td>0.871895</td>\n",
       "    </tr>\n",
       "    <tr>\n",
       "      <th>Width</th>\n",
       "      <td>0.492878</td>\n",
       "      <td>0.456028</td>\n",
       "      <td>0.408414</td>\n",
       "      <td>-0.720534</td>\n",
       "      <td>-0.640359</td>\n",
       "      <td>0.867110</td>\n",
       "      <td>0.644413</td>\n",
       "      <td>-0.539721</td>\n",
       "      <td>-0.780460</td>\n",
       "      <td>0.798719</td>\n",
       "      <td>0.489979</td>\n",
       "      <td>0.822148</td>\n",
       "      <td>0.807213</td>\n",
       "      <td>1.000000</td>\n",
       "      <td>0.817854</td>\n",
       "      <td>0.465618</td>\n",
       "      <td>0.673490</td>\n",
       "      <td>0.874961</td>\n",
       "    </tr>\n",
       "    <tr>\n",
       "      <th>Turn.circle</th>\n",
       "      <td>0.428603</td>\n",
       "      <td>0.392590</td>\n",
       "      <td>0.347785</td>\n",
       "      <td>-0.666389</td>\n",
       "      <td>-0.593683</td>\n",
       "      <td>0.778464</td>\n",
       "      <td>0.561216</td>\n",
       "      <td>-0.505651</td>\n",
       "      <td>-0.733160</td>\n",
       "      <td>0.671343</td>\n",
       "      <td>0.449025</td>\n",
       "      <td>0.738955</td>\n",
       "      <td>0.723324</td>\n",
       "      <td>0.817854</td>\n",
       "      <td>1.000000</td>\n",
       "      <td>0.466328</td>\n",
       "      <td>0.585018</td>\n",
       "      <td>0.778043</td>\n",
       "    </tr>\n",
       "    <tr>\n",
       "      <th>Rear.seat.room</th>\n",
       "      <td>0.376642</td>\n",
       "      <td>0.311499</td>\n",
       "      <td>0.247260</td>\n",
       "      <td>-0.384347</td>\n",
       "      <td>-0.366684</td>\n",
       "      <td>0.502750</td>\n",
       "      <td>0.256732</td>\n",
       "      <td>-0.342175</td>\n",
       "      <td>-0.377010</td>\n",
       "      <td>0.509689</td>\n",
       "      <td>0.694134</td>\n",
       "      <td>0.549958</td>\n",
       "      <td>0.667259</td>\n",
       "      <td>0.465618</td>\n",
       "      <td>0.466328</td>\n",
       "      <td>1.000000</td>\n",
       "      <td>0.651968</td>\n",
       "      <td>0.526250</td>\n",
       "    </tr>\n",
       "    <tr>\n",
       "      <th>Luggage.room</th>\n",
       "      <td>0.413485</td>\n",
       "      <td>0.366569</td>\n",
       "      <td>0.315315</td>\n",
       "      <td>-0.494894</td>\n",
       "      <td>-0.371629</td>\n",
       "      <td>0.680827</td>\n",
       "      <td>0.359217</td>\n",
       "      <td>-0.524845</td>\n",
       "      <td>-0.592792</td>\n",
       "      <td>0.613437</td>\n",
       "      <td>0.653317</td>\n",
       "      <td>0.712962</td>\n",
       "      <td>0.734127</td>\n",
       "      <td>0.673490</td>\n",
       "      <td>0.585018</td>\n",
       "      <td>0.651968</td>\n",
       "      <td>1.000000</td>\n",
       "      <td>0.637226</td>\n",
       "    </tr>\n",
       "    <tr>\n",
       "      <th>Weight</th>\n",
       "      <td>0.666554</td>\n",
       "      <td>0.647179</td>\n",
       "      <td>0.605142</td>\n",
       "      <td>-0.843139</td>\n",
       "      <td>-0.810658</td>\n",
       "      <td>0.845075</td>\n",
       "      <td>0.738798</td>\n",
       "      <td>-0.427931</td>\n",
       "      <td>-0.735264</td>\n",
       "      <td>0.894018</td>\n",
       "      <td>0.553273</td>\n",
       "      <td>0.806274</td>\n",
       "      <td>0.871895</td>\n",
       "      <td>0.874961</td>\n",
       "      <td>0.778043</td>\n",
       "      <td>0.526250</td>\n",
       "      <td>0.637226</td>\n",
       "      <td>1.000000</td>\n",
       "    </tr>\n",
       "  </tbody>\n",
       "</table>\n",
       "</div>"
      ],
      "text/plain": [
       "                    Min.Price     Price  Max.Price  MPG.city  MPG.highway  \\\n",
       "Min.Price            1.000000  0.970601   0.906756 -0.622875    -0.579966   \n",
       "Price                0.970601  1.000000   0.981580 -0.594562    -0.560680   \n",
       "Max.Price            0.906756  0.981580   1.000000 -0.547811    -0.522561   \n",
       "MPG.city            -0.622875 -0.594562  -0.547811  1.000000     0.943936   \n",
       "MPG.highway         -0.579966 -0.560680  -0.522561  0.943936     1.000000   \n",
       "EngineSize           0.645488  0.597425   0.535012 -0.710003    -0.626795   \n",
       "Horsepower           0.802444  0.788218   0.744445 -0.672636    -0.619044   \n",
       "RPM                 -0.042598 -0.004955   0.025015  0.363045     0.313469   \n",
       "Rev.per.mile        -0.470395 -0.426395  -0.374024  0.695857     0.587497   \n",
       "Fuel.tank.capacity   0.635369  0.619480   0.581294 -0.813144    -0.786039   \n",
       "Passengers           0.061236  0.057860   0.053216 -0.416856    -0.466386   \n",
       "Length               0.553859  0.503628   0.442933 -0.666239    -0.542897   \n",
       "Wheelbase            0.516758  0.500864   0.467501 -0.667108    -0.615384   \n",
       "Width                0.492878  0.456028   0.408414 -0.720534    -0.640359   \n",
       "Turn.circle          0.428603  0.392590   0.347785 -0.666389    -0.593683   \n",
       "Rear.seat.room       0.376642  0.311499   0.247260 -0.384347    -0.366684   \n",
       "Luggage.room         0.413485  0.366569   0.315315 -0.494894    -0.371629   \n",
       "Weight               0.666554  0.647179   0.605142 -0.843139    -0.810658   \n",
       "\n",
       "                    EngineSize  Horsepower       RPM  Rev.per.mile  \\\n",
       "Min.Price             0.645488    0.802444 -0.042598     -0.470395   \n",
       "Price                 0.597425    0.788218 -0.004955     -0.426395   \n",
       "Max.Price             0.535012    0.744445  0.025015     -0.374024   \n",
       "MPG.city             -0.710003   -0.672636  0.363045      0.695857   \n",
       "MPG.highway          -0.626795   -0.619044  0.313469      0.587497   \n",
       "EngineSize            1.000000    0.732120 -0.547898     -0.824009   \n",
       "Horsepower            0.732120    1.000000  0.036688     -0.600314   \n",
       "RPM                  -0.547898    0.036688  1.000000      0.494764   \n",
       "Rev.per.mile         -0.824009   -0.600314  0.494764      1.000000   \n",
       "Fuel.tank.capacity    0.759306    0.711790 -0.333345     -0.609710   \n",
       "Passengers            0.372721    0.009264 -0.467138     -0.334976   \n",
       "Length                0.780283    0.550865 -0.441249     -0.690233   \n",
       "Wheelbase             0.732484    0.486854 -0.467812     -0.636824   \n",
       "Width                 0.867110    0.644413 -0.539721     -0.780460   \n",
       "Turn.circle           0.778464    0.561216 -0.505651     -0.733160   \n",
       "Rear.seat.room        0.502750    0.256732 -0.342175     -0.377010   \n",
       "Luggage.room          0.680827    0.359217 -0.524845     -0.592792   \n",
       "Weight                0.845075    0.738798 -0.427931     -0.735264   \n",
       "\n",
       "                    Fuel.tank.capacity  Passengers    Length  Wheelbase  \\\n",
       "Min.Price                     0.635369    0.061236  0.553859   0.516758   \n",
       "Price                         0.619480    0.057860  0.503628   0.500864   \n",
       "Max.Price                     0.581294    0.053216  0.442933   0.467501   \n",
       "MPG.city                     -0.813144   -0.416856 -0.666239  -0.667108   \n",
       "MPG.highway                  -0.786039   -0.466386 -0.542897  -0.615384   \n",
       "EngineSize                    0.759306    0.372721  0.780283   0.732484   \n",
       "Horsepower                    0.711790    0.009264  0.550865   0.486854   \n",
       "RPM                          -0.333345   -0.467138 -0.441249  -0.467812   \n",
       "Rev.per.mile                 -0.609710   -0.334976 -0.690233  -0.636824   \n",
       "Fuel.tank.capacity            1.000000    0.472095  0.690461   0.757674   \n",
       "Passengers                    0.472095    1.000000  0.485294   0.694054   \n",
       "Length                        0.690461    0.485294  1.000000   0.823650   \n",
       "Wheelbase                     0.757674    0.694054  0.823650   1.000000   \n",
       "Width                         0.798719    0.489979  0.822148   0.807213   \n",
       "Turn.circle                   0.671343    0.449025  0.738955   0.723324   \n",
       "Rear.seat.room                0.509689    0.694134  0.549958   0.667259   \n",
       "Luggage.room                  0.613437    0.653317  0.712962   0.734127   \n",
       "Weight                        0.894018    0.553273  0.806274   0.871895   \n",
       "\n",
       "                       Width  Turn.circle  Rear.seat.room  Luggage.room  \\\n",
       "Min.Price           0.492878     0.428603        0.376642      0.413485   \n",
       "Price               0.456028     0.392590        0.311499      0.366569   \n",
       "Max.Price           0.408414     0.347785        0.247260      0.315315   \n",
       "MPG.city           -0.720534    -0.666389       -0.384347     -0.494894   \n",
       "MPG.highway        -0.640359    -0.593683       -0.366684     -0.371629   \n",
       "EngineSize          0.867110     0.778464        0.502750      0.680827   \n",
       "Horsepower          0.644413     0.561216        0.256732      0.359217   \n",
       "RPM                -0.539721    -0.505651       -0.342175     -0.524845   \n",
       "Rev.per.mile       -0.780460    -0.733160       -0.377010     -0.592792   \n",
       "Fuel.tank.capacity  0.798719     0.671343        0.509689      0.613437   \n",
       "Passengers          0.489979     0.449025        0.694134      0.653317   \n",
       "Length              0.822148     0.738955        0.549958      0.712962   \n",
       "Wheelbase           0.807213     0.723324        0.667259      0.734127   \n",
       "Width               1.000000     0.817854        0.465618      0.673490   \n",
       "Turn.circle         0.817854     1.000000        0.466328      0.585018   \n",
       "Rear.seat.room      0.465618     0.466328        1.000000      0.651968   \n",
       "Luggage.room        0.673490     0.585018        0.651968      1.000000   \n",
       "Weight              0.874961     0.778043        0.526250      0.637226   \n",
       "\n",
       "                      Weight  \n",
       "Min.Price           0.666554  \n",
       "Price               0.647179  \n",
       "Max.Price           0.605142  \n",
       "MPG.city           -0.843139  \n",
       "MPG.highway        -0.810658  \n",
       "EngineSize          0.845075  \n",
       "Horsepower          0.738798  \n",
       "RPM                -0.427931  \n",
       "Rev.per.mile       -0.735264  \n",
       "Fuel.tank.capacity  0.894018  \n",
       "Passengers          0.553273  \n",
       "Length              0.806274  \n",
       "Wheelbase           0.871895  \n",
       "Width               0.874961  \n",
       "Turn.circle         0.778043  \n",
       "Rear.seat.room      0.526250  \n",
       "Luggage.room        0.637226  \n",
       "Weight              1.000000  "
      ]
     },
     "execution_count": 41,
     "metadata": {},
     "output_type": "execute_result"
    }
   ],
   "source": [
    "A.corr()"
   ]
  },
  {
   "cell_type": "code",
   "execution_count": 42,
   "metadata": {
    "colab": {
     "base_uri": "https://localhost:8080/"
    },
    "executionInfo": {
     "elapsed": 340,
     "status": "ok",
     "timestamp": 1646203345103,
     "user": {
      "displayName": "Mahesh Anand",
      "photoUrl": "https://lh3.googleusercontent.com/a-/AOh14GgEjHTHmcE5H01IJo7KL2-QssgVKGBUBVq_Ch1n5Q=s64",
      "userId": "06788086636039591358"
     },
     "user_tz": -330
    },
    "id": "OWO1Qv7uVOhF",
    "outputId": "efaf272f-4b05-4957-84a0-bf458973a59a"
   },
   "outputs": [
    {
     "data": {
      "text/plain": [
       "Driver only           43\n",
       "None                  34\n",
       "Driver & Passenger    16\n",
       "Name: AirBags, dtype: int64"
      ]
     },
     "execution_count": 42,
     "metadata": {},
     "output_type": "execute_result"
    }
   ],
   "source": [
    "A['AirBags'].value_counts()"
   ]
  },
  {
   "cell_type": "code",
   "execution_count": 43,
   "metadata": {
    "colab": {
     "base_uri": "https://localhost:8080/"
    },
    "executionInfo": {
     "elapsed": 403,
     "status": "ok",
     "timestamp": 1632819075252,
     "user": {
      "displayName": "Mahesh Anand",
      "photoUrl": "https://lh3.googleusercontent.com/a-/AOh14Ghy47CXBCGfpGm71ElmYPDEY5c3AQB5tdq4ROpemw=s64",
      "userId": "06788086636039591358"
     },
     "user_tz": -330
    },
    "id": "1WnevQuPx6ae",
    "outputId": "d2e5c0fd-a9e1-47c1-ba25-89d8f1af92d2"
   },
   "outputs": [
    {
     "name": "stdout",
     "output_type": "stream",
     "text": [
      "<class 'pandas.core.frame.DataFrame'>\n",
      "Int64Index: 93 entries, 1 to 93\n",
      "Data columns (total 27 columns):\n",
      " #   Column              Non-Null Count  Dtype  \n",
      "---  ------              --------------  -----  \n",
      " 0   Manufacturer        93 non-null     object \n",
      " 1   Model               93 non-null     object \n",
      " 2   Type                93 non-null     object \n",
      " 3   Min.Price           93 non-null     float64\n",
      " 4   Price               93 non-null     float64\n",
      " 5   Max.Price           93 non-null     float64\n",
      " 6   MPG.city            93 non-null     int64  \n",
      " 7   MPG.highway         93 non-null     int64  \n",
      " 8   AirBags             93 non-null     object \n",
      " 9   DriveTrain          93 non-null     object \n",
      " 10  Cylinders           93 non-null     object \n",
      " 11  EngineSize          93 non-null     float64\n",
      " 12  Horsepower          93 non-null     int64  \n",
      " 13  RPM                 93 non-null     int64  \n",
      " 14  Rev.per.mile        93 non-null     int64  \n",
      " 15  Man.trans.avail     93 non-null     object \n",
      " 16  Fuel.tank.capacity  93 non-null     float64\n",
      " 17  Passengers          93 non-null     int64  \n",
      " 18  Length              93 non-null     int64  \n",
      " 19  Wheelbase           93 non-null     int64  \n",
      " 20  Width               93 non-null     int64  \n",
      " 21  Turn.circle         93 non-null     int64  \n",
      " 22  Rear.seat.room      91 non-null     float64\n",
      " 23  Luggage.room        82 non-null     float64\n",
      " 24  Weight              93 non-null     int64  \n",
      " 25  Origin              93 non-null     object \n",
      " 26  Make                93 non-null     object \n",
      "dtypes: float64(7), int64(11), object(9)\n",
      "memory usage: 20.3+ KB\n"
     ]
    }
   ],
   "source": [
    "A.info()"
   ]
  },
  {
   "cell_type": "code",
   "execution_count": 44,
   "metadata": {
    "colab": {
     "base_uri": "https://localhost:8080/",
     "height": 627
    },
    "executionInfo": {
     "elapsed": 426,
     "status": "ok",
     "timestamp": 1623655594932,
     "user": {
      "displayName": "Mahesh Anand",
      "photoUrl": "https://lh3.googleusercontent.com/a-/AOh14GgKd7FxLgzXO0MxUwypCgML3QfaeTdE0nT8cpHwLQ=s64",
      "userId": "06788086636039591358"
     },
     "user_tz": -330
    },
    "id": "5DOPwzCxCHLf",
    "outputId": "de8b8cc3-9fab-40f1-b690-205eb617dc6c"
   },
   "outputs": [
    {
     "data": {
      "text/html": [
       "<div>\n",
       "<style scoped>\n",
       "    .dataframe tbody tr th:only-of-type {\n",
       "        vertical-align: middle;\n",
       "    }\n",
       "\n",
       "    .dataframe tbody tr th {\n",
       "        vertical-align: top;\n",
       "    }\n",
       "\n",
       "    .dataframe thead th {\n",
       "        text-align: right;\n",
       "    }\n",
       "</style>\n",
       "<table border=\"1\" class=\"dataframe\">\n",
       "  <thead>\n",
       "    <tr style=\"text-align: right;\">\n",
       "      <th></th>\n",
       "      <th>Min.Price</th>\n",
       "      <th>Price</th>\n",
       "      <th>Max.Price</th>\n",
       "      <th>MPG.city</th>\n",
       "      <th>MPG.highway</th>\n",
       "      <th>EngineSize</th>\n",
       "      <th>Horsepower</th>\n",
       "      <th>RPM</th>\n",
       "      <th>Rev.per.mile</th>\n",
       "      <th>Fuel.tank.capacity</th>\n",
       "      <th>Passengers</th>\n",
       "      <th>Length</th>\n",
       "      <th>Wheelbase</th>\n",
       "      <th>Width</th>\n",
       "      <th>Turn.circle</th>\n",
       "      <th>Rear.seat.room</th>\n",
       "      <th>Luggage.room</th>\n",
       "      <th>Weight</th>\n",
       "    </tr>\n",
       "  </thead>\n",
       "  <tbody>\n",
       "    <tr>\n",
       "      <th>Min.Price</th>\n",
       "      <td>1.000000</td>\n",
       "      <td>0.970601</td>\n",
       "      <td>0.906756</td>\n",
       "      <td>-0.622875</td>\n",
       "      <td>-0.579966</td>\n",
       "      <td>0.645488</td>\n",
       "      <td>0.802444</td>\n",
       "      <td>-0.042598</td>\n",
       "      <td>-0.470395</td>\n",
       "      <td>0.635369</td>\n",
       "      <td>0.061236</td>\n",
       "      <td>0.553859</td>\n",
       "      <td>0.516758</td>\n",
       "      <td>0.492878</td>\n",
       "      <td>0.428603</td>\n",
       "      <td>0.376642</td>\n",
       "      <td>0.413485</td>\n",
       "      <td>0.666554</td>\n",
       "    </tr>\n",
       "    <tr>\n",
       "      <th>Price</th>\n",
       "      <td>0.970601</td>\n",
       "      <td>1.000000</td>\n",
       "      <td>0.981580</td>\n",
       "      <td>-0.594562</td>\n",
       "      <td>-0.560680</td>\n",
       "      <td>0.597425</td>\n",
       "      <td>0.788218</td>\n",
       "      <td>-0.004955</td>\n",
       "      <td>-0.426395</td>\n",
       "      <td>0.619480</td>\n",
       "      <td>0.057860</td>\n",
       "      <td>0.503628</td>\n",
       "      <td>0.500864</td>\n",
       "      <td>0.456028</td>\n",
       "      <td>0.392590</td>\n",
       "      <td>0.311499</td>\n",
       "      <td>0.366569</td>\n",
       "      <td>0.647179</td>\n",
       "    </tr>\n",
       "    <tr>\n",
       "      <th>Max.Price</th>\n",
       "      <td>0.906756</td>\n",
       "      <td>0.981580</td>\n",
       "      <td>1.000000</td>\n",
       "      <td>-0.547811</td>\n",
       "      <td>-0.522561</td>\n",
       "      <td>0.535012</td>\n",
       "      <td>0.744445</td>\n",
       "      <td>0.025015</td>\n",
       "      <td>-0.374024</td>\n",
       "      <td>0.581294</td>\n",
       "      <td>0.053216</td>\n",
       "      <td>0.442933</td>\n",
       "      <td>0.467501</td>\n",
       "      <td>0.408414</td>\n",
       "      <td>0.347785</td>\n",
       "      <td>0.247260</td>\n",
       "      <td>0.315315</td>\n",
       "      <td>0.605142</td>\n",
       "    </tr>\n",
       "    <tr>\n",
       "      <th>MPG.city</th>\n",
       "      <td>-0.622875</td>\n",
       "      <td>-0.594562</td>\n",
       "      <td>-0.547811</td>\n",
       "      <td>1.000000</td>\n",
       "      <td>0.943936</td>\n",
       "      <td>-0.710003</td>\n",
       "      <td>-0.672636</td>\n",
       "      <td>0.363045</td>\n",
       "      <td>0.695857</td>\n",
       "      <td>-0.813144</td>\n",
       "      <td>-0.416856</td>\n",
       "      <td>-0.666239</td>\n",
       "      <td>-0.667108</td>\n",
       "      <td>-0.720534</td>\n",
       "      <td>-0.666389</td>\n",
       "      <td>-0.384347</td>\n",
       "      <td>-0.494894</td>\n",
       "      <td>-0.843139</td>\n",
       "    </tr>\n",
       "    <tr>\n",
       "      <th>MPG.highway</th>\n",
       "      <td>-0.579966</td>\n",
       "      <td>-0.560680</td>\n",
       "      <td>-0.522561</td>\n",
       "      <td>0.943936</td>\n",
       "      <td>1.000000</td>\n",
       "      <td>-0.626795</td>\n",
       "      <td>-0.619044</td>\n",
       "      <td>0.313469</td>\n",
       "      <td>0.587497</td>\n",
       "      <td>-0.786039</td>\n",
       "      <td>-0.466386</td>\n",
       "      <td>-0.542897</td>\n",
       "      <td>-0.615384</td>\n",
       "      <td>-0.640359</td>\n",
       "      <td>-0.593683</td>\n",
       "      <td>-0.366684</td>\n",
       "      <td>-0.371629</td>\n",
       "      <td>-0.810658</td>\n",
       "    </tr>\n",
       "    <tr>\n",
       "      <th>EngineSize</th>\n",
       "      <td>0.645488</td>\n",
       "      <td>0.597425</td>\n",
       "      <td>0.535012</td>\n",
       "      <td>-0.710003</td>\n",
       "      <td>-0.626795</td>\n",
       "      <td>1.000000</td>\n",
       "      <td>0.732120</td>\n",
       "      <td>-0.547898</td>\n",
       "      <td>-0.824009</td>\n",
       "      <td>0.759306</td>\n",
       "      <td>0.372721</td>\n",
       "      <td>0.780283</td>\n",
       "      <td>0.732484</td>\n",
       "      <td>0.867110</td>\n",
       "      <td>0.778464</td>\n",
       "      <td>0.502750</td>\n",
       "      <td>0.680827</td>\n",
       "      <td>0.845075</td>\n",
       "    </tr>\n",
       "    <tr>\n",
       "      <th>Horsepower</th>\n",
       "      <td>0.802444</td>\n",
       "      <td>0.788218</td>\n",
       "      <td>0.744445</td>\n",
       "      <td>-0.672636</td>\n",
       "      <td>-0.619044</td>\n",
       "      <td>0.732120</td>\n",
       "      <td>1.000000</td>\n",
       "      <td>0.036688</td>\n",
       "      <td>-0.600314</td>\n",
       "      <td>0.711790</td>\n",
       "      <td>0.009264</td>\n",
       "      <td>0.550865</td>\n",
       "      <td>0.486854</td>\n",
       "      <td>0.644413</td>\n",
       "      <td>0.561216</td>\n",
       "      <td>0.256732</td>\n",
       "      <td>0.359217</td>\n",
       "      <td>0.738798</td>\n",
       "    </tr>\n",
       "    <tr>\n",
       "      <th>RPM</th>\n",
       "      <td>-0.042598</td>\n",
       "      <td>-0.004955</td>\n",
       "      <td>0.025015</td>\n",
       "      <td>0.363045</td>\n",
       "      <td>0.313469</td>\n",
       "      <td>-0.547898</td>\n",
       "      <td>0.036688</td>\n",
       "      <td>1.000000</td>\n",
       "      <td>0.494764</td>\n",
       "      <td>-0.333345</td>\n",
       "      <td>-0.467138</td>\n",
       "      <td>-0.441249</td>\n",
       "      <td>-0.467812</td>\n",
       "      <td>-0.539721</td>\n",
       "      <td>-0.505651</td>\n",
       "      <td>-0.342175</td>\n",
       "      <td>-0.524845</td>\n",
       "      <td>-0.427931</td>\n",
       "    </tr>\n",
       "    <tr>\n",
       "      <th>Rev.per.mile</th>\n",
       "      <td>-0.470395</td>\n",
       "      <td>-0.426395</td>\n",
       "      <td>-0.374024</td>\n",
       "      <td>0.695857</td>\n",
       "      <td>0.587497</td>\n",
       "      <td>-0.824009</td>\n",
       "      <td>-0.600314</td>\n",
       "      <td>0.494764</td>\n",
       "      <td>1.000000</td>\n",
       "      <td>-0.609710</td>\n",
       "      <td>-0.334976</td>\n",
       "      <td>-0.690233</td>\n",
       "      <td>-0.636824</td>\n",
       "      <td>-0.780460</td>\n",
       "      <td>-0.733160</td>\n",
       "      <td>-0.377010</td>\n",
       "      <td>-0.592792</td>\n",
       "      <td>-0.735264</td>\n",
       "    </tr>\n",
       "    <tr>\n",
       "      <th>Fuel.tank.capacity</th>\n",
       "      <td>0.635369</td>\n",
       "      <td>0.619480</td>\n",
       "      <td>0.581294</td>\n",
       "      <td>-0.813144</td>\n",
       "      <td>-0.786039</td>\n",
       "      <td>0.759306</td>\n",
       "      <td>0.711790</td>\n",
       "      <td>-0.333345</td>\n",
       "      <td>-0.609710</td>\n",
       "      <td>1.000000</td>\n",
       "      <td>0.472095</td>\n",
       "      <td>0.690461</td>\n",
       "      <td>0.757674</td>\n",
       "      <td>0.798719</td>\n",
       "      <td>0.671343</td>\n",
       "      <td>0.509689</td>\n",
       "      <td>0.613437</td>\n",
       "      <td>0.894018</td>\n",
       "    </tr>\n",
       "    <tr>\n",
       "      <th>Passengers</th>\n",
       "      <td>0.061236</td>\n",
       "      <td>0.057860</td>\n",
       "      <td>0.053216</td>\n",
       "      <td>-0.416856</td>\n",
       "      <td>-0.466386</td>\n",
       "      <td>0.372721</td>\n",
       "      <td>0.009264</td>\n",
       "      <td>-0.467138</td>\n",
       "      <td>-0.334976</td>\n",
       "      <td>0.472095</td>\n",
       "      <td>1.000000</td>\n",
       "      <td>0.485294</td>\n",
       "      <td>0.694054</td>\n",
       "      <td>0.489979</td>\n",
       "      <td>0.449025</td>\n",
       "      <td>0.694134</td>\n",
       "      <td>0.653317</td>\n",
       "      <td>0.553273</td>\n",
       "    </tr>\n",
       "    <tr>\n",
       "      <th>Length</th>\n",
       "      <td>0.553859</td>\n",
       "      <td>0.503628</td>\n",
       "      <td>0.442933</td>\n",
       "      <td>-0.666239</td>\n",
       "      <td>-0.542897</td>\n",
       "      <td>0.780283</td>\n",
       "      <td>0.550865</td>\n",
       "      <td>-0.441249</td>\n",
       "      <td>-0.690233</td>\n",
       "      <td>0.690461</td>\n",
       "      <td>0.485294</td>\n",
       "      <td>1.000000</td>\n",
       "      <td>0.823650</td>\n",
       "      <td>0.822148</td>\n",
       "      <td>0.738955</td>\n",
       "      <td>0.549958</td>\n",
       "      <td>0.712962</td>\n",
       "      <td>0.806274</td>\n",
       "    </tr>\n",
       "    <tr>\n",
       "      <th>Wheelbase</th>\n",
       "      <td>0.516758</td>\n",
       "      <td>0.500864</td>\n",
       "      <td>0.467501</td>\n",
       "      <td>-0.667108</td>\n",
       "      <td>-0.615384</td>\n",
       "      <td>0.732484</td>\n",
       "      <td>0.486854</td>\n",
       "      <td>-0.467812</td>\n",
       "      <td>-0.636824</td>\n",
       "      <td>0.757674</td>\n",
       "      <td>0.694054</td>\n",
       "      <td>0.823650</td>\n",
       "      <td>1.000000</td>\n",
       "      <td>0.807213</td>\n",
       "      <td>0.723324</td>\n",
       "      <td>0.667259</td>\n",
       "      <td>0.734127</td>\n",
       "      <td>0.871895</td>\n",
       "    </tr>\n",
       "    <tr>\n",
       "      <th>Width</th>\n",
       "      <td>0.492878</td>\n",
       "      <td>0.456028</td>\n",
       "      <td>0.408414</td>\n",
       "      <td>-0.720534</td>\n",
       "      <td>-0.640359</td>\n",
       "      <td>0.867110</td>\n",
       "      <td>0.644413</td>\n",
       "      <td>-0.539721</td>\n",
       "      <td>-0.780460</td>\n",
       "      <td>0.798719</td>\n",
       "      <td>0.489979</td>\n",
       "      <td>0.822148</td>\n",
       "      <td>0.807213</td>\n",
       "      <td>1.000000</td>\n",
       "      <td>0.817854</td>\n",
       "      <td>0.465618</td>\n",
       "      <td>0.673490</td>\n",
       "      <td>0.874961</td>\n",
       "    </tr>\n",
       "    <tr>\n",
       "      <th>Turn.circle</th>\n",
       "      <td>0.428603</td>\n",
       "      <td>0.392590</td>\n",
       "      <td>0.347785</td>\n",
       "      <td>-0.666389</td>\n",
       "      <td>-0.593683</td>\n",
       "      <td>0.778464</td>\n",
       "      <td>0.561216</td>\n",
       "      <td>-0.505651</td>\n",
       "      <td>-0.733160</td>\n",
       "      <td>0.671343</td>\n",
       "      <td>0.449025</td>\n",
       "      <td>0.738955</td>\n",
       "      <td>0.723324</td>\n",
       "      <td>0.817854</td>\n",
       "      <td>1.000000</td>\n",
       "      <td>0.466328</td>\n",
       "      <td>0.585018</td>\n",
       "      <td>0.778043</td>\n",
       "    </tr>\n",
       "    <tr>\n",
       "      <th>Rear.seat.room</th>\n",
       "      <td>0.376642</td>\n",
       "      <td>0.311499</td>\n",
       "      <td>0.247260</td>\n",
       "      <td>-0.384347</td>\n",
       "      <td>-0.366684</td>\n",
       "      <td>0.502750</td>\n",
       "      <td>0.256732</td>\n",
       "      <td>-0.342175</td>\n",
       "      <td>-0.377010</td>\n",
       "      <td>0.509689</td>\n",
       "      <td>0.694134</td>\n",
       "      <td>0.549958</td>\n",
       "      <td>0.667259</td>\n",
       "      <td>0.465618</td>\n",
       "      <td>0.466328</td>\n",
       "      <td>1.000000</td>\n",
       "      <td>0.651968</td>\n",
       "      <td>0.526250</td>\n",
       "    </tr>\n",
       "    <tr>\n",
       "      <th>Luggage.room</th>\n",
       "      <td>0.413485</td>\n",
       "      <td>0.366569</td>\n",
       "      <td>0.315315</td>\n",
       "      <td>-0.494894</td>\n",
       "      <td>-0.371629</td>\n",
       "      <td>0.680827</td>\n",
       "      <td>0.359217</td>\n",
       "      <td>-0.524845</td>\n",
       "      <td>-0.592792</td>\n",
       "      <td>0.613437</td>\n",
       "      <td>0.653317</td>\n",
       "      <td>0.712962</td>\n",
       "      <td>0.734127</td>\n",
       "      <td>0.673490</td>\n",
       "      <td>0.585018</td>\n",
       "      <td>0.651968</td>\n",
       "      <td>1.000000</td>\n",
       "      <td>0.637226</td>\n",
       "    </tr>\n",
       "    <tr>\n",
       "      <th>Weight</th>\n",
       "      <td>0.666554</td>\n",
       "      <td>0.647179</td>\n",
       "      <td>0.605142</td>\n",
       "      <td>-0.843139</td>\n",
       "      <td>-0.810658</td>\n",
       "      <td>0.845075</td>\n",
       "      <td>0.738798</td>\n",
       "      <td>-0.427931</td>\n",
       "      <td>-0.735264</td>\n",
       "      <td>0.894018</td>\n",
       "      <td>0.553273</td>\n",
       "      <td>0.806274</td>\n",
       "      <td>0.871895</td>\n",
       "      <td>0.874961</td>\n",
       "      <td>0.778043</td>\n",
       "      <td>0.526250</td>\n",
       "      <td>0.637226</td>\n",
       "      <td>1.000000</td>\n",
       "    </tr>\n",
       "  </tbody>\n",
       "</table>\n",
       "</div>"
      ],
      "text/plain": [
       "                    Min.Price     Price  Max.Price  MPG.city  MPG.highway  \\\n",
       "Min.Price            1.000000  0.970601   0.906756 -0.622875    -0.579966   \n",
       "Price                0.970601  1.000000   0.981580 -0.594562    -0.560680   \n",
       "Max.Price            0.906756  0.981580   1.000000 -0.547811    -0.522561   \n",
       "MPG.city            -0.622875 -0.594562  -0.547811  1.000000     0.943936   \n",
       "MPG.highway         -0.579966 -0.560680  -0.522561  0.943936     1.000000   \n",
       "EngineSize           0.645488  0.597425   0.535012 -0.710003    -0.626795   \n",
       "Horsepower           0.802444  0.788218   0.744445 -0.672636    -0.619044   \n",
       "RPM                 -0.042598 -0.004955   0.025015  0.363045     0.313469   \n",
       "Rev.per.mile        -0.470395 -0.426395  -0.374024  0.695857     0.587497   \n",
       "Fuel.tank.capacity   0.635369  0.619480   0.581294 -0.813144    -0.786039   \n",
       "Passengers           0.061236  0.057860   0.053216 -0.416856    -0.466386   \n",
       "Length               0.553859  0.503628   0.442933 -0.666239    -0.542897   \n",
       "Wheelbase            0.516758  0.500864   0.467501 -0.667108    -0.615384   \n",
       "Width                0.492878  0.456028   0.408414 -0.720534    -0.640359   \n",
       "Turn.circle          0.428603  0.392590   0.347785 -0.666389    -0.593683   \n",
       "Rear.seat.room       0.376642  0.311499   0.247260 -0.384347    -0.366684   \n",
       "Luggage.room         0.413485  0.366569   0.315315 -0.494894    -0.371629   \n",
       "Weight               0.666554  0.647179   0.605142 -0.843139    -0.810658   \n",
       "\n",
       "                    EngineSize  Horsepower       RPM  Rev.per.mile  \\\n",
       "Min.Price             0.645488    0.802444 -0.042598     -0.470395   \n",
       "Price                 0.597425    0.788218 -0.004955     -0.426395   \n",
       "Max.Price             0.535012    0.744445  0.025015     -0.374024   \n",
       "MPG.city             -0.710003   -0.672636  0.363045      0.695857   \n",
       "MPG.highway          -0.626795   -0.619044  0.313469      0.587497   \n",
       "EngineSize            1.000000    0.732120 -0.547898     -0.824009   \n",
       "Horsepower            0.732120    1.000000  0.036688     -0.600314   \n",
       "RPM                  -0.547898    0.036688  1.000000      0.494764   \n",
       "Rev.per.mile         -0.824009   -0.600314  0.494764      1.000000   \n",
       "Fuel.tank.capacity    0.759306    0.711790 -0.333345     -0.609710   \n",
       "Passengers            0.372721    0.009264 -0.467138     -0.334976   \n",
       "Length                0.780283    0.550865 -0.441249     -0.690233   \n",
       "Wheelbase             0.732484    0.486854 -0.467812     -0.636824   \n",
       "Width                 0.867110    0.644413 -0.539721     -0.780460   \n",
       "Turn.circle           0.778464    0.561216 -0.505651     -0.733160   \n",
       "Rear.seat.room        0.502750    0.256732 -0.342175     -0.377010   \n",
       "Luggage.room          0.680827    0.359217 -0.524845     -0.592792   \n",
       "Weight                0.845075    0.738798 -0.427931     -0.735264   \n",
       "\n",
       "                    Fuel.tank.capacity  Passengers    Length  Wheelbase  \\\n",
       "Min.Price                     0.635369    0.061236  0.553859   0.516758   \n",
       "Price                         0.619480    0.057860  0.503628   0.500864   \n",
       "Max.Price                     0.581294    0.053216  0.442933   0.467501   \n",
       "MPG.city                     -0.813144   -0.416856 -0.666239  -0.667108   \n",
       "MPG.highway                  -0.786039   -0.466386 -0.542897  -0.615384   \n",
       "EngineSize                    0.759306    0.372721  0.780283   0.732484   \n",
       "Horsepower                    0.711790    0.009264  0.550865   0.486854   \n",
       "RPM                          -0.333345   -0.467138 -0.441249  -0.467812   \n",
       "Rev.per.mile                 -0.609710   -0.334976 -0.690233  -0.636824   \n",
       "Fuel.tank.capacity            1.000000    0.472095  0.690461   0.757674   \n",
       "Passengers                    0.472095    1.000000  0.485294   0.694054   \n",
       "Length                        0.690461    0.485294  1.000000   0.823650   \n",
       "Wheelbase                     0.757674    0.694054  0.823650   1.000000   \n",
       "Width                         0.798719    0.489979  0.822148   0.807213   \n",
       "Turn.circle                   0.671343    0.449025  0.738955   0.723324   \n",
       "Rear.seat.room                0.509689    0.694134  0.549958   0.667259   \n",
       "Luggage.room                  0.613437    0.653317  0.712962   0.734127   \n",
       "Weight                        0.894018    0.553273  0.806274   0.871895   \n",
       "\n",
       "                       Width  Turn.circle  Rear.seat.room  Luggage.room  \\\n",
       "Min.Price           0.492878     0.428603        0.376642      0.413485   \n",
       "Price               0.456028     0.392590        0.311499      0.366569   \n",
       "Max.Price           0.408414     0.347785        0.247260      0.315315   \n",
       "MPG.city           -0.720534    -0.666389       -0.384347     -0.494894   \n",
       "MPG.highway        -0.640359    -0.593683       -0.366684     -0.371629   \n",
       "EngineSize          0.867110     0.778464        0.502750      0.680827   \n",
       "Horsepower          0.644413     0.561216        0.256732      0.359217   \n",
       "RPM                -0.539721    -0.505651       -0.342175     -0.524845   \n",
       "Rev.per.mile       -0.780460    -0.733160       -0.377010     -0.592792   \n",
       "Fuel.tank.capacity  0.798719     0.671343        0.509689      0.613437   \n",
       "Passengers          0.489979     0.449025        0.694134      0.653317   \n",
       "Length              0.822148     0.738955        0.549958      0.712962   \n",
       "Wheelbase           0.807213     0.723324        0.667259      0.734127   \n",
       "Width               1.000000     0.817854        0.465618      0.673490   \n",
       "Turn.circle         0.817854     1.000000        0.466328      0.585018   \n",
       "Rear.seat.room      0.465618     0.466328        1.000000      0.651968   \n",
       "Luggage.room        0.673490     0.585018        0.651968      1.000000   \n",
       "Weight              0.874961     0.778043        0.526250      0.637226   \n",
       "\n",
       "                      Weight  \n",
       "Min.Price           0.666554  \n",
       "Price               0.647179  \n",
       "Max.Price           0.605142  \n",
       "MPG.city           -0.843139  \n",
       "MPG.highway        -0.810658  \n",
       "EngineSize          0.845075  \n",
       "Horsepower          0.738798  \n",
       "RPM                -0.427931  \n",
       "Rev.per.mile       -0.735264  \n",
       "Fuel.tank.capacity  0.894018  \n",
       "Passengers          0.553273  \n",
       "Length              0.806274  \n",
       "Wheelbase           0.871895  \n",
       "Width               0.874961  \n",
       "Turn.circle         0.778043  \n",
       "Rear.seat.room      0.526250  \n",
       "Luggage.room        0.637226  \n",
       "Weight              1.000000  "
      ]
     },
     "execution_count": 44,
     "metadata": {},
     "output_type": "execute_result"
    }
   ],
   "source": [
    "A.corr()"
   ]
  },
  {
   "cell_type": "code",
   "execution_count": 45,
   "metadata": {
    "colab": {
     "base_uri": "https://localhost:8080/"
    },
    "executionInfo": {
     "elapsed": 437,
     "status": "ok",
     "timestamp": 1639646129961,
     "user": {
      "displayName": "Mahesh Anand",
      "photoUrl": "https://lh3.googleusercontent.com/a-/AOh14Ghy47CXBCGfpGm71ElmYPDEY5c3AQB5tdq4ROpemw=s64",
      "userId": "06788086636039591358"
     },
     "user_tz": -330
    },
    "id": "PrYqtLLc1-Wz",
    "outputId": "65976f31-4494-4a5a-f10c-4a5aba77605c"
   },
   "outputs": [
    {
     "data": {
      "text/plain": [
       "Acura Integra               1\n",
       "Mercury Capri               1\n",
       "Oldsmobile Cutlass_Ciera    1\n",
       "Oldsmobile Achieva          1\n",
       "Nissan Maxima               1\n",
       "                           ..\n",
       "Eagle Vision                1\n",
       "Eagle Summit                1\n",
       "Dodge Stealth               1\n",
       "Dodge Dynasty               1\n",
       "Volvo 850                   1\n",
       "Name: Make, Length: 93, dtype: int64"
      ]
     },
     "execution_count": 45,
     "metadata": {},
     "output_type": "execute_result"
    }
   ],
   "source": [
    "A['Make'].value_counts()"
   ]
  },
  {
   "cell_type": "code",
   "execution_count": 46,
   "metadata": {
    "colab": {
     "base_uri": "https://localhost:8080/",
     "height": 373
    },
    "executionInfo": {
     "elapsed": 360,
     "status": "ok",
     "timestamp": 1646203385298,
     "user": {
      "displayName": "Mahesh Anand",
      "photoUrl": "https://lh3.googleusercontent.com/a-/AOh14GgEjHTHmcE5H01IJo7KL2-QssgVKGBUBVq_Ch1n5Q=s64",
      "userId": "06788086636039591358"
     },
     "user_tz": -330
    },
    "id": "CEG1IVai0Etc",
    "outputId": "ffd10a51-cee7-482b-fd43-690d97a77f33"
   },
   "outputs": [
    {
     "data": {
      "text/plain": [
       "<AxesSubplot:title={'center':'Price'}, xlabel='Passengers'>"
      ]
     },
     "execution_count": 46,
     "metadata": {},
     "output_type": "execute_result"
    },
    {
     "data": {
      "image/png": "[encoded data removed]",
      "text/plain": [
       "<Figure size 432x288 with 1 Axes>"
      ]
     },
     "metadata": {
      "needs_background": "light"
     },
     "output_type": "display_data"
    }
   ],
   "source": [
    "A.boxplot(column='Price',by='Passengers')"
   ]
  },
  {
   "cell_type": "code",
   "execution_count": 47,
   "metadata": {
    "colab": {
     "base_uri": "https://localhost:8080/",
     "height": 373
    },
    "executionInfo": {
     "elapsed": 385,
     "status": "ok",
     "timestamp": 1646203412169,
     "user": {
      "displayName": "Mahesh Anand",
      "photoUrl": "https://lh3.googleusercontent.com/a-/AOh14GgEjHTHmcE5H01IJo7KL2-QssgVKGBUBVq_Ch1n5Q=s64",
      "userId": "06788086636039591358"
     },
     "user_tz": -330
    },
    "id": "RBdBc4Vt4oyB",
    "outputId": "f0f93f56-fa81-4ad7-e134-ccc88b68f777"
   },
   "outputs": [
    {
     "data": {
      "text/plain": [
       "<AxesSubplot:title={'center':'Price'}, xlabel='Cylinders'>"
      ]
     },
     "execution_count": 47,
     "metadata": {},
     "output_type": "execute_result"
    },
    {
     "data": {
      "image/png": "[encoded data removed]",
      "text/plain": [
       "<Figure size 432x288 with 1 Axes>"
      ]
     },
     "metadata": {
      "needs_background": "light"
     },
     "output_type": "display_data"
    }
   ],
   "source": [
    "A.boxplot(column='Price',by='Cylinders')"
   ]
  },
  {
   "cell_type": "code",
   "execution_count": 48,
   "metadata": {
    "colab": {
     "base_uri": "https://localhost:8080/",
     "height": 318
    },
    "executionInfo": {
     "elapsed": 1146,
     "status": "ok",
     "timestamp": 1581485639533,
     "user": {
      "displayName": "Mahesh Anand",
      "photoUrl": "https://lh3.googleusercontent.com/a-/AAuE7mDwRqsBffQmzXsc6rHxDVmepWB7mxD_zfhcK5E1=s64",
      "userId": "06788086636039591358"
     },
     "user_tz": -330
    },
    "id": "t8vHmV_kQgoy",
    "outputId": "a99acfd2-34c9-4f1e-e30e-16e4c5fc9d9a"
   },
   "outputs": [
    {
     "data": {
      "text/plain": [
       "<AxesSubplot:title={'center':'Price'}, xlabel='Origin'>"
      ]
     },
     "execution_count": 48,
     "metadata": {},
     "output_type": "execute_result"
    },
    {
     "data": {
      "image/png": "[encoded data removed]",
      "text/plain": [
       "<Figure size 432x288 with 1 Axes>"
      ]
     },
     "metadata": {
      "needs_background": "light"
     },
     "output_type": "display_data"
    }
   ],
   "source": [
    "A.boxplot(column='Price',by='Origin')"
   ]
  },
  {
   "cell_type": "code",
   "execution_count": 49,
   "metadata": {
    "colab": {
     "base_uri": "https://localhost:8080/",
     "height": 318
    },
    "executionInfo": {
     "elapsed": 1006,
     "status": "ok",
     "timestamp": 1594114820603,
     "user": {
      "displayName": "Mahesh Anand",
      "photoUrl": "https://lh3.googleusercontent.com/a-/AOh14GiAxRvO4nLPhI4SJLaIoUVmhr8lm1tddyCLyKOj=s64",
      "userId": "06788086636039591358"
     },
     "user_tz": -330
    },
    "id": "FN1eujBU6qFJ",
    "outputId": "a466bccb-f560-467e-9ea2-70e827170155"
   },
   "outputs": [
    {
     "data": {
      "text/plain": [
       "<AxesSubplot:title={'center':'Price'}, xlabel='AirBags'>"
      ]
     },
     "execution_count": 49,
     "metadata": {},
     "output_type": "execute_result"
    },
    {
     "data": {
      "image/png": "[encoded data removed]",
      "text/plain": [
       "<Figure size 432x288 with 1 Axes>"
      ]
     },
     "metadata": {
      "needs_background": "light"
     },
     "output_type": "display_data"
    }
   ],
   "source": [
    "A.boxplot(column='Price',by='AirBags')"
   ]
  },
  {
   "cell_type": "code",
   "execution_count": 50,
   "metadata": {
    "colab": {
     "base_uri": "https://localhost:8080/",
     "height": 72
    },
    "executionInfo": {
     "elapsed": 1174,
     "status": "ok",
     "timestamp": 1571208591797,
     "user": {
      "displayName": "Mahesh Anand",
      "photoUrl": "https://lh3.googleusercontent.com/a-/AAuE7mDwRqsBffQmzXsc6rHxDVmepWB7mxD_zfhcK5E1=s64",
      "userId": "06788086636039591358"
     },
     "user_tz": -330
    },
    "id": "Faw_1PCJUD9h",
    "outputId": "a8f42d22-da33-4c7e-955b-83b1ea36a7a5"
   },
   "outputs": [
    {
     "data": {
      "text/plain": [
       "Yes    61\n",
       "No     32\n",
       "Name: Man.trans.avail, dtype: int64"
      ]
     },
     "execution_count": 50,
     "metadata": {},
     "output_type": "execute_result"
    }
   ],
   "source": [
    "A['Man.trans.avail'].value_counts()"
   ]
  },
  {
   "cell_type": "code",
   "execution_count": 51,
   "metadata": {
    "colab": {
     "base_uri": "https://localhost:8080/",
     "height": 318
    },
    "executionInfo": {
     "elapsed": 1165,
     "status": "ok",
     "timestamp": 1591079459132,
     "user": {
      "displayName": "Mahesh Anand",
      "photoUrl": "https://lh3.googleusercontent.com/a-/AOh14GiAxRvO4nLPhI4SJLaIoUVmhr8lm1tddyCLyKOj=s64",
      "userId": "06788086636039591358"
     },
     "user_tz": -330
    },
    "id": "hlwNQ0EKuYda",
    "outputId": "a3d25ed1-cb23-4243-bbef-29b176f2c2b0"
   },
   "outputs": [
    {
     "data": {
      "text/plain": [
       "<AxesSubplot:title={'center':'Price'}, xlabel='Man.trans.avail'>"
      ]
     },
     "execution_count": 51,
     "metadata": {},
     "output_type": "execute_result"
    },
    {
     "data": {
      "image/png": "[encoded data removed]",
      "text/plain": [
       "<Figure size 432x288 with 1 Axes>"
      ]
     },
     "metadata": {
      "needs_background": "light"
     },
     "output_type": "display_data"
    }
   ],
   "source": [
    "A.boxplot(column='Price',by='Man.trans.avail')"
   ]
  },
  {
   "cell_type": "code",
   "execution_count": 52,
   "metadata": {
    "colab": {
     "base_uri": "https://localhost:8080/",
     "height": 318
    },
    "executionInfo": {
     "elapsed": 1128,
     "status": "ok",
     "timestamp": 1582009955124,
     "user": {
      "displayName": "Mahesh Anand",
      "photoUrl": "https://lh3.googleusercontent.com/a-/AAuE7mDwRqsBffQmzXsc6rHxDVmepWB7mxD_zfhcK5E1=s64",
      "userId": "06788086636039591358"
     },
     "user_tz": -330
    },
    "id": "ym3Hn2M4BVk-",
    "outputId": "94571220-f498-4f46-c06f-813790134a37"
   },
   "outputs": [
    {
     "data": {
      "text/plain": [
       "<AxesSubplot:title={'center':'Price'}, xlabel='DriveTrain'>"
      ]
     },
     "execution_count": 52,
     "metadata": {},
     "output_type": "execute_result"
    },
    {
     "data": {
      "image/png": "[encoded data removed]",
      "text/plain": [
       "<Figure size 432x288 with 1 Axes>"
      ]
     },
     "metadata": {
      "needs_background": "light"
     },
     "output_type": "display_data"
    }
   ],
   "source": [
    "A.boxplot(column='Price',by='DriveTrain')"
   ]
  },
  {
   "cell_type": "code",
   "execution_count": 53,
   "metadata": {
    "id": "jzj3gDTu5Q7H"
   },
   "outputs": [
    {
     "data": {
      "text/plain": [
       "<AxesSubplot:title={'center':'Price'}, xlabel='Man.trans.avail'>"
      ]
     },
     "execution_count": 53,
     "metadata": {},
     "output_type": "execute_result"
    },
    {
     "data": {
      "image/png": "[encoded data removed]",
      "text/plain": [
       "<Figure size 432x288 with 1 Axes>"
      ]
     },
     "metadata": {
      "needs_background": "light"
     },
     "output_type": "display_data"
    }
   ],
   "source": [
    "A.boxplot(column='Price',by='Man.trans.avail')"
   ]
  },
  {
   "cell_type": "code",
   "execution_count": 54,
   "metadata": {
    "colab": {
     "base_uri": "https://localhost:8080/",
     "height": 319
    },
    "executionInfo": {
     "elapsed": 1266,
     "status": "ok",
     "timestamp": 1571207618581,
     "user": {
      "displayName": "Mahesh Anand",
      "photoUrl": "https://lh3.googleusercontent.com/a-/AAuE7mDwRqsBffQmzXsc6rHxDVmepWB7mxD_zfhcK5E1=s64",
      "userId": "06788086636039591358"
     },
     "user_tz": -330
    },
    "id": "3QUWyzrHRXrH",
    "outputId": "0b6c7219-90c7-445d-fd7c-746608d2eb05"
   },
   "outputs": [
    {
     "data": {
      "text/plain": [
       "<AxesSubplot:title={'center':'Price'}, xlabel='AirBags'>"
      ]
     },
     "execution_count": 54,
     "metadata": {},
     "output_type": "execute_result"
    },
    {
     "data": {
      "image/png": "[encoded data removed]",
      "text/plain": [
       "<Figure size 432x288 with 1 Axes>"
      ]
     },
     "metadata": {
      "needs_background": "light"
     },
     "output_type": "display_data"
    }
   ],
   "source": [
    "A.boxplot(column='Price',by='AirBags')"
   ]
  },
  {
   "cell_type": "code",
   "execution_count": 55,
   "metadata": {
    "colab": {
     "base_uri": "https://localhost:8080/"
    },
    "executionInfo": {
     "elapsed": 472,
     "status": "ok",
     "timestamp": 1649584746196,
     "user": {
      "displayName": "Mahesh Anand",
      "userId": "06788086636039591358"
     },
     "user_tz": -330
    },
    "id": "cNWdkesO4d1m",
    "outputId": "f15d1a25-9a49-46c4-f75b-0dd223f26290"
   },
   "outputs": [
    {
     "name": "stdout",
     "output_type": "stream",
     "text": [
      "<class 'pandas.core.frame.DataFrame'>\n",
      "Int64Index: 93 entries, 1 to 93\n",
      "Data columns (total 27 columns):\n",
      " #   Column              Non-Null Count  Dtype  \n",
      "---  ------              --------------  -----  \n",
      " 0   Manufacturer        93 non-null     object \n",
      " 1   Model               93 non-null     object \n",
      " 2   Type                93 non-null     object \n",
      " 3   Min.Price           93 non-null     float64\n",
      " 4   Price               93 non-null     float64\n",
      " 5   Max.Price           93 non-null     float64\n",
      " 6   MPG.city            93 non-null     int64  \n",
      " 7   MPG.highway         93 non-null     int64  \n",
      " 8   AirBags             93 non-null     object \n",
      " 9   DriveTrain          93 non-null     object \n",
      " 10  Cylinders           93 non-null     object \n",
      " 11  EngineSize          93 non-null     float64\n",
      " 12  Horsepower          93 non-null     int64  \n",
      " 13  RPM                 93 non-null     int64  \n",
      " 14  Rev.per.mile        93 non-null     int64  \n",
      " 15  Man.trans.avail     93 non-null     object \n",
      " 16  Fuel.tank.capacity  93 non-null     float64\n",
      " 17  Passengers          93 non-null     int64  \n",
      " 18  Length              93 non-null     int64  \n",
      " 19  Wheelbase           93 non-null     int64  \n",
      " 20  Width               93 non-null     int64  \n",
      " 21  Turn.circle         93 non-null     int64  \n",
      " 22  Rear.seat.room      91 non-null     float64\n",
      " 23  Luggage.room        82 non-null     float64\n",
      " 24  Weight              93 non-null     int64  \n",
      " 25  Origin              93 non-null     object \n",
      " 26  Make                93 non-null     object \n",
      "dtypes: float64(7), int64(11), object(9)\n",
      "memory usage: 20.3+ KB\n"
     ]
    }
   ],
   "source": [
    "A.info()"
   ]
  },
  {
   "cell_type": "code",
   "execution_count": 56,
   "metadata": {},
   "outputs": [],
   "source": [
    "A['Passengers']=A['Passengers'].astype('object')"
   ]
  },
  {
   "cell_type": "code",
   "execution_count": 57,
   "metadata": {
    "id": "zy-kgFs_bPyL"
   },
   "outputs": [],
   "source": [
    "#Bigdata (10K to 100K) = dropna\n",
    "#Dataset size (500-2000)upto 5-10% of size of n = Median Imputation or random sampling\n",
    "#Dataset around 1000, 10-20% of record is missing = KNN Imputer (preserve your distribution)"
   ]
  },
  {
   "cell_type": "code",
   "execution_count": 58,
   "metadata": {
    "id": "_ydpIPZhalLO"
   },
   "outputs": [],
   "source": [
    "A['Rear.seat.room'].fillna(A['Rear.seat.room'].median(),inplace=True)\n",
    "A['Luggage.room'].fillna(A['Luggage.room'].median(),inplace=True)"
   ]
  },
  {
   "cell_type": "code",
   "execution_count": 59,
   "metadata": {
    "colab": {
     "base_uri": "https://localhost:8080/",
     "height": 206
    },
    "executionInfo": {
     "elapsed": 6,
     "status": "ok",
     "timestamp": 1632820811688,
     "user": {
      "displayName": "Mahesh Anand",
      "photoUrl": "https://lh3.googleusercontent.com/a-/AOh14Ghy47CXBCGfpGm71ElmYPDEY5c3AQB5tdq4ROpemw=s64",
      "userId": "06788086636039591358"
     },
     "user_tz": -330
    },
    "id": "eJ6aZhc0dlDS",
    "outputId": "80daeee6-454c-43fe-c40a-ad93d9cf7ba2"
   },
   "outputs": [
    {
     "data": {
      "text/html": [
       "<div>\n",
       "<style scoped>\n",
       "    .dataframe tbody tr th:only-of-type {\n",
       "        vertical-align: middle;\n",
       "    }\n",
       "\n",
       "    .dataframe tbody tr th {\n",
       "        vertical-align: top;\n",
       "    }\n",
       "\n",
       "    .dataframe thead th {\n",
       "        text-align: right;\n",
       "    }\n",
       "</style>\n",
       "<table border=\"1\" class=\"dataframe\">\n",
       "  <thead>\n",
       "    <tr style=\"text-align: right;\">\n",
       "      <th></th>\n",
       "      <th>x1</th>\n",
       "      <th>x2</th>\n",
       "      <th>x3</th>\n",
       "    </tr>\n",
       "  </thead>\n",
       "  <tbody>\n",
       "    <tr>\n",
       "      <th>0</th>\n",
       "      <td>3.0</td>\n",
       "      <td>5</td>\n",
       "      <td>NaN</td>\n",
       "    </tr>\n",
       "    <tr>\n",
       "      <th>1</th>\n",
       "      <td>8.0</td>\n",
       "      <td>2</td>\n",
       "      <td>9.0</td>\n",
       "    </tr>\n",
       "    <tr>\n",
       "      <th>2</th>\n",
       "      <td>NaN</td>\n",
       "      <td>7</td>\n",
       "      <td>8.0</td>\n",
       "    </tr>\n",
       "    <tr>\n",
       "      <th>3</th>\n",
       "      <td>5.0</td>\n",
       "      <td>8</td>\n",
       "      <td>2.0</td>\n",
       "    </tr>\n",
       "    <tr>\n",
       "      <th>4</th>\n",
       "      <td>10.0</td>\n",
       "      <td>9</td>\n",
       "      <td>5.0</td>\n",
       "    </tr>\n",
       "  </tbody>\n",
       "</table>\n",
       "</div>"
      ],
      "text/plain": [
       "     x1  x2   x3\n",
       "0   3.0   5  NaN\n",
       "1   8.0   2  9.0\n",
       "2   NaN   7  8.0\n",
       "3   5.0   8  2.0\n",
       "4  10.0   9  5.0"
      ]
     },
     "execution_count": 59,
     "metadata": {},
     "output_type": "execute_result"
    }
   ],
   "source": [
    "test=pd.DataFrame({'x1':[3,8,np.nan,5,10],'x2':[5,2,7,8,9],'x3':[np.nan,9,8,2,5]})\n",
    "test"
   ]
  },
  {
   "cell_type": "code",
   "execution_count": 60,
   "metadata": {
    "id": "6WD3s_xkgWua"
   },
   "outputs": [],
   "source": [
    "from sklearn.impute import KNNImputer\n",
    "#by default it is recursive"
   ]
  },
  {
   "cell_type": "code",
   "execution_count": 61,
   "metadata": {
    "colab": {
     "base_uri": "https://localhost:8080/",
     "height": 105
    },
    "executionInfo": {
     "elapsed": 14897,
     "status": "ok",
     "timestamp": 1594119643779,
     "user": {
      "displayName": "Mahesh Anand",
      "photoUrl": "https://lh3.googleusercontent.com/a-/AOh14GiAxRvO4nLPhI4SJLaIoUVmhr8lm1tddyCLyKOj=s64",
      "userId": "06788086636039591358"
     },
     "user_tz": -330
    },
    "id": "LBF1P524gdXZ",
    "outputId": "67b2a8a9-9f43-43a6-d8d9-8f910a36de4d"
   },
   "outputs": [
    {
     "data": {
      "text/plain": [
       "array([[ 3. ,  5. ,  5. ],\n",
       "       [ 8. ,  2. ,  9. ],\n",
       "       [ 6.5,  7. ,  8. ],\n",
       "       [ 5. ,  8. ,  2. ],\n",
       "       [10. ,  9. ,  5. ]])"
      ]
     },
     "execution_count": 61,
     "metadata": {},
     "output_type": "execute_result"
    }
   ],
   "source": [
    "Imp=KNNImputer(n_neighbors=2)\n",
    "Imp.fit_transform(test)"
   ]
  },
  {
   "cell_type": "code",
   "execution_count": 62,
   "metadata": {
    "id": "rwXgwp9veHX4"
   },
   "outputs": [],
   "source": [
    "#using KNN imputer (n_neigh=2)\n",
    "#test-1=8\n",
    "#test-3=5\n",
    "#test-4=11"
   ]
  },
  {
   "cell_type": "code",
   "execution_count": 63,
   "metadata": {
    "colab": {
     "base_uri": "https://localhost:8080/"
    },
    "executionInfo": {
     "elapsed": 416,
     "status": "ok",
     "timestamp": 1624271985661,
     "user": {
      "displayName": "Mahesh Anand",
      "photoUrl": "https://lh3.googleusercontent.com/a-/AOh14GgKd7FxLgzXO0MxUwypCgML3QfaeTdE0nT8cpHwLQ=s64",
      "userId": "06788086636039591358"
     },
     "user_tz": -330
    },
    "id": "zEeX0bsHJ1lH",
    "outputId": "59d1809a-717e-4f90-cbf6-1a6bb3c352ba"
   },
   "outputs": [
    {
     "data": {
      "text/plain": [
       "(93, 22)"
      ]
     },
     "execution_count": 63,
     "metadata": {},
     "output_type": "execute_result"
    }
   ],
   "source": [
    "B.shape"
   ]
  },
  {
   "cell_type": "code",
   "execution_count": 64,
   "metadata": {
    "colab": {
     "base_uri": "https://localhost:8080/",
     "height": 386
    },
    "executionInfo": {
     "elapsed": 649,
     "status": "ok",
     "timestamp": 1649584790800,
     "user": {
      "displayName": "Mahesh Anand",
      "userId": "06788086636039591358"
     },
     "user_tz": -330
    },
    "id": "FmYz1upQX4kK",
    "outputId": "90092a68-2313-46de-f5fc-8cb261ea6d49"
   },
   "outputs": [
    {
     "data": {
      "text/html": [
       "<div>\n",
       "<style scoped>\n",
       "    .dataframe tbody tr th:only-of-type {\n",
       "        vertical-align: middle;\n",
       "    }\n",
       "\n",
       "    .dataframe tbody tr th {\n",
       "        vertical-align: top;\n",
       "    }\n",
       "\n",
       "    .dataframe thead th {\n",
       "        text-align: right;\n",
       "    }\n",
       "</style>\n",
       "<table border=\"1\" class=\"dataframe\">\n",
       "  <thead>\n",
       "    <tr style=\"text-align: right;\">\n",
       "      <th></th>\n",
       "      <th>Type</th>\n",
       "      <th>Price</th>\n",
       "      <th>MPG.city</th>\n",
       "      <th>MPG.highway</th>\n",
       "      <th>AirBags</th>\n",
       "      <th>DriveTrain</th>\n",
       "      <th>Cylinders</th>\n",
       "      <th>EngineSize</th>\n",
       "      <th>Horsepower</th>\n",
       "      <th>RPM</th>\n",
       "      <th>...</th>\n",
       "      <th>Fuel.tank.capacity</th>\n",
       "      <th>Passengers</th>\n",
       "      <th>Length</th>\n",
       "      <th>Wheelbase</th>\n",
       "      <th>Width</th>\n",
       "      <th>Turn.circle</th>\n",
       "      <th>Rear.seat.room</th>\n",
       "      <th>Luggage.room</th>\n",
       "      <th>Weight</th>\n",
       "      <th>Origin</th>\n",
       "    </tr>\n",
       "  </thead>\n",
       "  <tbody>\n",
       "    <tr>\n",
       "      <th>1</th>\n",
       "      <td>Small</td>\n",
       "      <td>15.9</td>\n",
       "      <td>25</td>\n",
       "      <td>31</td>\n",
       "      <td>None</td>\n",
       "      <td>Front</td>\n",
       "      <td>4</td>\n",
       "      <td>1.8</td>\n",
       "      <td>140</td>\n",
       "      <td>6300</td>\n",
       "      <td>...</td>\n",
       "      <td>13.2</td>\n",
       "      <td>5</td>\n",
       "      <td>177</td>\n",
       "      <td>102</td>\n",
       "      <td>68</td>\n",
       "      <td>37</td>\n",
       "      <td>26.5</td>\n",
       "      <td>11.0</td>\n",
       "      <td>2705</td>\n",
       "      <td>non-USA</td>\n",
       "    </tr>\n",
       "    <tr>\n",
       "      <th>2</th>\n",
       "      <td>Midsize</td>\n",
       "      <td>33.9</td>\n",
       "      <td>18</td>\n",
       "      <td>25</td>\n",
       "      <td>Driver &amp; Passenger</td>\n",
       "      <td>Front</td>\n",
       "      <td>6</td>\n",
       "      <td>3.2</td>\n",
       "      <td>200</td>\n",
       "      <td>5500</td>\n",
       "      <td>...</td>\n",
       "      <td>18.0</td>\n",
       "      <td>5</td>\n",
       "      <td>195</td>\n",
       "      <td>115</td>\n",
       "      <td>71</td>\n",
       "      <td>38</td>\n",
       "      <td>30.0</td>\n",
       "      <td>15.0</td>\n",
       "      <td>3560</td>\n",
       "      <td>non-USA</td>\n",
       "    </tr>\n",
       "    <tr>\n",
       "      <th>3</th>\n",
       "      <td>Compact</td>\n",
       "      <td>29.1</td>\n",
       "      <td>20</td>\n",
       "      <td>26</td>\n",
       "      <td>Driver only</td>\n",
       "      <td>Front</td>\n",
       "      <td>6</td>\n",
       "      <td>2.8</td>\n",
       "      <td>172</td>\n",
       "      <td>5500</td>\n",
       "      <td>...</td>\n",
       "      <td>16.9</td>\n",
       "      <td>5</td>\n",
       "      <td>180</td>\n",
       "      <td>102</td>\n",
       "      <td>67</td>\n",
       "      <td>37</td>\n",
       "      <td>28.0</td>\n",
       "      <td>14.0</td>\n",
       "      <td>3375</td>\n",
       "      <td>non-USA</td>\n",
       "    </tr>\n",
       "    <tr>\n",
       "      <th>4</th>\n",
       "      <td>Midsize</td>\n",
       "      <td>37.7</td>\n",
       "      <td>19</td>\n",
       "      <td>26</td>\n",
       "      <td>Driver &amp; Passenger</td>\n",
       "      <td>Front</td>\n",
       "      <td>6</td>\n",
       "      <td>2.8</td>\n",
       "      <td>172</td>\n",
       "      <td>5500</td>\n",
       "      <td>...</td>\n",
       "      <td>21.1</td>\n",
       "      <td>6</td>\n",
       "      <td>193</td>\n",
       "      <td>106</td>\n",
       "      <td>70</td>\n",
       "      <td>37</td>\n",
       "      <td>31.0</td>\n",
       "      <td>17.0</td>\n",
       "      <td>3405</td>\n",
       "      <td>non-USA</td>\n",
       "    </tr>\n",
       "    <tr>\n",
       "      <th>5</th>\n",
       "      <td>Midsize</td>\n",
       "      <td>30.0</td>\n",
       "      <td>22</td>\n",
       "      <td>30</td>\n",
       "      <td>Driver only</td>\n",
       "      <td>Rear</td>\n",
       "      <td>4</td>\n",
       "      <td>3.5</td>\n",
       "      <td>208</td>\n",
       "      <td>5700</td>\n",
       "      <td>...</td>\n",
       "      <td>21.1</td>\n",
       "      <td>4</td>\n",
       "      <td>186</td>\n",
       "      <td>109</td>\n",
       "      <td>69</td>\n",
       "      <td>39</td>\n",
       "      <td>27.0</td>\n",
       "      <td>13.0</td>\n",
       "      <td>3640</td>\n",
       "      <td>non-USA</td>\n",
       "    </tr>\n",
       "  </tbody>\n",
       "</table>\n",
       "<p>5 rows × 22 columns</p>\n",
       "</div>"
      ],
      "text/plain": [
       "      Type  Price  MPG.city  MPG.highway             AirBags DriveTrain  \\\n",
       "1    Small   15.9        25           31                None      Front   \n",
       "2  Midsize   33.9        18           25  Driver & Passenger      Front   \n",
       "3  Compact   29.1        20           26         Driver only      Front   \n",
       "4  Midsize   37.7        19           26  Driver & Passenger      Front   \n",
       "5  Midsize   30.0        22           30         Driver only       Rear   \n",
       "\n",
       "  Cylinders  EngineSize  Horsepower   RPM  ...  Fuel.tank.capacity Passengers  \\\n",
       "1         4         1.8         140  6300  ...                13.2          5   \n",
       "2         6         3.2         200  5500  ...                18.0          5   \n",
       "3         6         2.8         172  5500  ...                16.9          5   \n",
       "4         6         2.8         172  5500  ...                21.1          6   \n",
       "5         4         3.5         208  5700  ...                21.1          4   \n",
       "\n",
       "   Length Wheelbase  Width  Turn.circle  Rear.seat.room  Luggage.room  Weight  \\\n",
       "1     177       102     68           37            26.5          11.0    2705   \n",
       "2     195       115     71           38            30.0          15.0    3560   \n",
       "3     180       102     67           37            28.0          14.0    3375   \n",
       "4     193       106     70           37            31.0          17.0    3405   \n",
       "5     186       109     69           39            27.0          13.0    3640   \n",
       "\n",
       "    Origin  \n",
       "1  non-USA  \n",
       "2  non-USA  \n",
       "3  non-USA  \n",
       "4  non-USA  \n",
       "5  non-USA  \n",
       "\n",
       "[5 rows x 22 columns]"
      ]
     },
     "execution_count": 64,
     "metadata": {},
     "output_type": "execute_result"
    }
   ],
   "source": [
    "#Create a B data frame by dropping unwanted columns based on business context\n",
    "B=A.drop(['Manufacturer','Model','Min.Price','Max.Price','Make'],axis=1)\n",
    "B.head()"
   ]
  },
  {
   "cell_type": "code",
   "execution_count": 65,
   "metadata": {
    "colab": {
     "base_uri": "https://localhost:8080/"
    },
    "executionInfo": {
     "elapsed": 454,
     "status": "ok",
     "timestamp": 1646204509393,
     "user": {
      "displayName": "Mahesh Anand",
      "photoUrl": "https://lh3.googleusercontent.com/a-/AOh14GgEjHTHmcE5H01IJo7KL2-QssgVKGBUBVq_Ch1n5Q=s64",
      "userId": "06788086636039591358"
     },
     "user_tz": -330
    },
    "id": "Hdxx7jqah-hk",
    "outputId": "ee29ca64-6e31-44ab-df36-09400eb6c345"
   },
   "outputs": [
    {
     "data": {
      "text/plain": [
       "(93, 22)"
      ]
     },
     "execution_count": 65,
     "metadata": {},
     "output_type": "execute_result"
    }
   ],
   "source": [
    "B.shape"
   ]
  },
  {
   "cell_type": "code",
   "execution_count": 66,
   "metadata": {
    "colab": {
     "base_uri": "https://localhost:8080/"
    },
    "executionInfo": {
     "elapsed": 10,
     "status": "ok",
     "timestamp": 1646204510751,
     "user": {
      "displayName": "Mahesh Anand",
      "photoUrl": "https://lh3.googleusercontent.com/a-/AOh14GgEjHTHmcE5H01IJo7KL2-QssgVKGBUBVq_Ch1n5Q=s64",
      "userId": "06788086636039591358"
     },
     "user_tz": -330
    },
    "id": "e5ncppKAiI99",
    "outputId": "39558cc8-0e1a-40df-86c7-2c54e3c6f797"
   },
   "outputs": [
    {
     "name": "stdout",
     "output_type": "stream",
     "text": [
      "<class 'pandas.core.frame.DataFrame'>\n",
      "Int64Index: 93 entries, 1 to 93\n",
      "Data columns (total 22 columns):\n",
      " #   Column              Non-Null Count  Dtype  \n",
      "---  ------              --------------  -----  \n",
      " 0   Type                93 non-null     object \n",
      " 1   Price               93 non-null     float64\n",
      " 2   MPG.city            93 non-null     int64  \n",
      " 3   MPG.highway         93 non-null     int64  \n",
      " 4   AirBags             93 non-null     object \n",
      " 5   DriveTrain          93 non-null     object \n",
      " 6   Cylinders           93 non-null     object \n",
      " 7   EngineSize          93 non-null     float64\n",
      " 8   Horsepower          93 non-null     int64  \n",
      " 9   RPM                 93 non-null     int64  \n",
      " 10  Rev.per.mile        93 non-null     int64  \n",
      " 11  Man.trans.avail     93 non-null     object \n",
      " 12  Fuel.tank.capacity  93 non-null     float64\n",
      " 13  Passengers          93 non-null     object \n",
      " 14  Length              93 non-null     int64  \n",
      " 15  Wheelbase           93 non-null     int64  \n",
      " 16  Width               93 non-null     int64  \n",
      " 17  Turn.circle         93 non-null     int64  \n",
      " 18  Rear.seat.room      93 non-null     float64\n",
      " 19  Luggage.room        93 non-null     float64\n",
      " 20  Weight              93 non-null     int64  \n",
      " 21  Origin              93 non-null     object \n",
      "dtypes: float64(5), int64(10), object(7)\n",
      "memory usage: 16.7+ KB\n"
     ]
    }
   ],
   "source": [
    "B.info()"
   ]
  },
  {
   "cell_type": "code",
   "execution_count": 67,
   "metadata": {
    "colab": {
     "base_uri": "https://localhost:8080/"
    },
    "executionInfo": {
     "elapsed": 459,
     "status": "ok",
     "timestamp": 1649584957464,
     "user": {
      "displayName": "Mahesh Anand",
      "userId": "06788086636039591358"
     },
     "user_tz": -330
    },
    "id": "Fkp5ce-tiQSk",
    "outputId": "285d73d7-d81b-4494-86b6-dde661d33ecf"
   },
   "outputs": [
    {
     "name": "stderr",
     "output_type": "stream",
     "text": [
      "C:\\Users\\yaman\\AppData\\Local\\Temp/ipykernel_12692/1772016445.py:1: DeprecationWarning: `np.object` is a deprecated alias for the builtin `object`. To silence this warning, use `object` by itself. Doing this will not modify any behavior and is safe. \n",
      "Deprecated in NumPy 1.20; for more details and guidance: https://numpy.org/devdocs/release/1.20.0-notes.html#deprecations\n",
      "  df_cat = B.select_dtypes(include=[np.object])\n"
     ]
    },
    {
     "data": {
      "text/plain": [
       "Index(['Type', 'AirBags', 'DriveTrain', 'Cylinders', 'Man.trans.avail',\n",
       "       'Passengers', 'Origin'],\n",
       "      dtype='object')"
      ]
     },
     "execution_count": 67,
     "metadata": {},
     "output_type": "execute_result"
    }
   ],
   "source": [
    "df_cat = B.select_dtypes(include=[np.object])\n",
    "\n",
    "# display categorical features\n",
    "df_cat.columns"
   ]
  },
  {
   "cell_type": "code",
   "execution_count": 68,
   "metadata": {
    "colab": {
     "base_uri": "https://localhost:8080/",
     "height": 386
    },
    "executionInfo": {
     "elapsed": 671,
     "status": "ok",
     "timestamp": 1649585123324,
     "user": {
      "displayName": "Mahesh Anand",
      "userId": "06788086636039591358"
     },
     "user_tz": -330
    },
    "id": "rseapU_I70b_",
    "outputId": "b3c23acb-1bd2-4efa-90ea-40ad878c82c0"
   },
   "outputs": [
    {
     "data": {
      "text/html": [
       "<div>\n",
       "<style scoped>\n",
       "    .dataframe tbody tr th:only-of-type {\n",
       "        vertical-align: middle;\n",
       "    }\n",
       "\n",
       "    .dataframe tbody tr th {\n",
       "        vertical-align: top;\n",
       "    }\n",
       "\n",
       "    .dataframe thead th {\n",
       "        text-align: right;\n",
       "    }\n",
       "</style>\n",
       "<table border=\"1\" class=\"dataframe\">\n",
       "  <thead>\n",
       "    <tr style=\"text-align: right;\">\n",
       "      <th></th>\n",
       "      <th>Type</th>\n",
       "      <th>Price</th>\n",
       "      <th>MPG.city</th>\n",
       "      <th>MPG.highway</th>\n",
       "      <th>AirBags</th>\n",
       "      <th>DriveTrain</th>\n",
       "      <th>Cylinders</th>\n",
       "      <th>EngineSize</th>\n",
       "      <th>Horsepower</th>\n",
       "      <th>RPM</th>\n",
       "      <th>...</th>\n",
       "      <th>Fuel.tank.capacity</th>\n",
       "      <th>Passengers</th>\n",
       "      <th>Length</th>\n",
       "      <th>Wheelbase</th>\n",
       "      <th>Width</th>\n",
       "      <th>Turn.circle</th>\n",
       "      <th>Rear.seat.room</th>\n",
       "      <th>Luggage.room</th>\n",
       "      <th>Weight</th>\n",
       "      <th>Origin</th>\n",
       "    </tr>\n",
       "  </thead>\n",
       "  <tbody>\n",
       "    <tr>\n",
       "      <th>1</th>\n",
       "      <td>Small</td>\n",
       "      <td>15.9</td>\n",
       "      <td>25</td>\n",
       "      <td>31</td>\n",
       "      <td>None</td>\n",
       "      <td>Front</td>\n",
       "      <td>4</td>\n",
       "      <td>1.8</td>\n",
       "      <td>140</td>\n",
       "      <td>6300</td>\n",
       "      <td>...</td>\n",
       "      <td>13.2</td>\n",
       "      <td>5</td>\n",
       "      <td>177</td>\n",
       "      <td>102</td>\n",
       "      <td>68</td>\n",
       "      <td>37</td>\n",
       "      <td>26.5</td>\n",
       "      <td>11.0</td>\n",
       "      <td>2705</td>\n",
       "      <td>non-USA</td>\n",
       "    </tr>\n",
       "    <tr>\n",
       "      <th>2</th>\n",
       "      <td>Midsize</td>\n",
       "      <td>33.9</td>\n",
       "      <td>18</td>\n",
       "      <td>25</td>\n",
       "      <td>Driver &amp; Passenger</td>\n",
       "      <td>Front</td>\n",
       "      <td>6</td>\n",
       "      <td>3.2</td>\n",
       "      <td>200</td>\n",
       "      <td>5500</td>\n",
       "      <td>...</td>\n",
       "      <td>18.0</td>\n",
       "      <td>5</td>\n",
       "      <td>195</td>\n",
       "      <td>115</td>\n",
       "      <td>71</td>\n",
       "      <td>38</td>\n",
       "      <td>30.0</td>\n",
       "      <td>15.0</td>\n",
       "      <td>3560</td>\n",
       "      <td>non-USA</td>\n",
       "    </tr>\n",
       "    <tr>\n",
       "      <th>3</th>\n",
       "      <td>Compact</td>\n",
       "      <td>29.1</td>\n",
       "      <td>20</td>\n",
       "      <td>26</td>\n",
       "      <td>Driver only</td>\n",
       "      <td>Front</td>\n",
       "      <td>6</td>\n",
       "      <td>2.8</td>\n",
       "      <td>172</td>\n",
       "      <td>5500</td>\n",
       "      <td>...</td>\n",
       "      <td>16.9</td>\n",
       "      <td>5</td>\n",
       "      <td>180</td>\n",
       "      <td>102</td>\n",
       "      <td>67</td>\n",
       "      <td>37</td>\n",
       "      <td>28.0</td>\n",
       "      <td>14.0</td>\n",
       "      <td>3375</td>\n",
       "      <td>non-USA</td>\n",
       "    </tr>\n",
       "    <tr>\n",
       "      <th>4</th>\n",
       "      <td>Midsize</td>\n",
       "      <td>37.7</td>\n",
       "      <td>19</td>\n",
       "      <td>26</td>\n",
       "      <td>Driver &amp; Passenger</td>\n",
       "      <td>Front</td>\n",
       "      <td>6</td>\n",
       "      <td>2.8</td>\n",
       "      <td>172</td>\n",
       "      <td>5500</td>\n",
       "      <td>...</td>\n",
       "      <td>21.1</td>\n",
       "      <td>6</td>\n",
       "      <td>193</td>\n",
       "      <td>106</td>\n",
       "      <td>70</td>\n",
       "      <td>37</td>\n",
       "      <td>31.0</td>\n",
       "      <td>17.0</td>\n",
       "      <td>3405</td>\n",
       "      <td>non-USA</td>\n",
       "    </tr>\n",
       "    <tr>\n",
       "      <th>5</th>\n",
       "      <td>Midsize</td>\n",
       "      <td>30.0</td>\n",
       "      <td>22</td>\n",
       "      <td>30</td>\n",
       "      <td>Driver only</td>\n",
       "      <td>Rear</td>\n",
       "      <td>4</td>\n",
       "      <td>3.5</td>\n",
       "      <td>208</td>\n",
       "      <td>5700</td>\n",
       "      <td>...</td>\n",
       "      <td>21.1</td>\n",
       "      <td>4</td>\n",
       "      <td>186</td>\n",
       "      <td>109</td>\n",
       "      <td>69</td>\n",
       "      <td>39</td>\n",
       "      <td>27.0</td>\n",
       "      <td>13.0</td>\n",
       "      <td>3640</td>\n",
       "      <td>non-USA</td>\n",
       "    </tr>\n",
       "  </tbody>\n",
       "</table>\n",
       "<p>5 rows × 22 columns</p>\n",
       "</div>"
      ],
      "text/plain": [
       "      Type  Price  MPG.city  MPG.highway             AirBags DriveTrain  \\\n",
       "1    Small   15.9        25           31                None      Front   \n",
       "2  Midsize   33.9        18           25  Driver & Passenger      Front   \n",
       "3  Compact   29.1        20           26         Driver only      Front   \n",
       "4  Midsize   37.7        19           26  Driver & Passenger      Front   \n",
       "5  Midsize   30.0        22           30         Driver only       Rear   \n",
       "\n",
       "  Cylinders  EngineSize  Horsepower   RPM  ...  Fuel.tank.capacity Passengers  \\\n",
       "1         4         1.8         140  6300  ...                13.2          5   \n",
       "2         6         3.2         200  5500  ...                18.0          5   \n",
       "3         6         2.8         172  5500  ...                16.9          5   \n",
       "4         6         2.8         172  5500  ...                21.1          6   \n",
       "5         4         3.5         208  5700  ...                21.1          4   \n",
       "\n",
       "   Length Wheelbase  Width  Turn.circle  Rear.seat.room  Luggage.room  Weight  \\\n",
       "1     177       102     68           37            26.5          11.0    2705   \n",
       "2     195       115     71           38            30.0          15.0    3560   \n",
       "3     180       102     67           37            28.0          14.0    3375   \n",
       "4     193       106     70           37            31.0          17.0    3405   \n",
       "5     186       109     69           39            27.0          13.0    3640   \n",
       "\n",
       "    Origin  \n",
       "1  non-USA  \n",
       "2  non-USA  \n",
       "3  non-USA  \n",
       "4  non-USA  \n",
       "5  non-USA  \n",
       "\n",
       "[5 rows x 22 columns]"
      ]
     },
     "execution_count": 68,
     "metadata": {},
     "output_type": "execute_result"
    }
   ],
   "source": [
    "B.head()"
   ]
  },
  {
   "cell_type": "code",
   "execution_count": null,
   "metadata": {
    "id": "vVxJPRgI70oT"
   },
   "outputs": [],
   "source": []
  },
  {
   "cell_type": "code",
   "execution_count": null,
   "metadata": {
    "id": "sIgHnu2L70wt"
   },
   "outputs": [],
   "source": []
  },
  {
   "cell_type": "code",
   "execution_count": 69,
   "metadata": {
    "colab": {
     "base_uri": "https://localhost:8080/"
    },
    "executionInfo": {
     "elapsed": 408,
     "status": "ok",
     "timestamp": 1649584979756,
     "user": {
      "displayName": "Mahesh Anand",
      "userId": "06788086636039591358"
     },
     "user_tz": -330
    },
    "id": "aWja3oy7igEK",
    "outputId": "f236329c-a861-409e-f5ad-47d056ca223b"
   },
   "outputs": [
    {
     "data": {
      "text/plain": [
       "(93, 21)"
      ]
     },
     "execution_count": 69,
     "metadata": {},
     "output_type": "execute_result"
    }
   ],
   "source": [
    "dummy_var = pd.get_dummies(data = df_cat, drop_first=True)\n",
    "dummy_var.shape"
   ]
  },
  {
   "cell_type": "code",
   "execution_count": 70,
   "metadata": {
    "colab": {
     "base_uri": "https://localhost:8080/",
     "height": 287
    },
    "executionInfo": {
     "elapsed": 384,
     "status": "ok",
     "timestamp": 1649585040143,
     "user": {
      "displayName": "Mahesh Anand",
      "userId": "06788086636039591358"
     },
     "user_tz": -330
    },
    "id": "z7dGAjYb7geb",
    "outputId": "601e98b0-4a5a-4816-9459-9f27c1eb8fce"
   },
   "outputs": [
    {
     "data": {
      "text/html": [
       "<div>\n",
       "<style scoped>\n",
       "    .dataframe tbody tr th:only-of-type {\n",
       "        vertical-align: middle;\n",
       "    }\n",
       "\n",
       "    .dataframe tbody tr th {\n",
       "        vertical-align: top;\n",
       "    }\n",
       "\n",
       "    .dataframe thead th {\n",
       "        text-align: right;\n",
       "    }\n",
       "</style>\n",
       "<table border=\"1\" class=\"dataframe\">\n",
       "  <thead>\n",
       "    <tr style=\"text-align: right;\">\n",
       "      <th></th>\n",
       "      <th>Type_Large</th>\n",
       "      <th>Type_Midsize</th>\n",
       "      <th>Type_Small</th>\n",
       "      <th>Type_Sporty</th>\n",
       "      <th>Type_Van</th>\n",
       "      <th>AirBags_Driver only</th>\n",
       "      <th>AirBags_None</th>\n",
       "      <th>DriveTrain_Front</th>\n",
       "      <th>DriveTrain_Rear</th>\n",
       "      <th>Cylinders_4</th>\n",
       "      <th>...</th>\n",
       "      <th>Cylinders_6</th>\n",
       "      <th>Cylinders_8</th>\n",
       "      <th>Cylinders_rotary</th>\n",
       "      <th>Man.trans.avail_Yes</th>\n",
       "      <th>Passengers_4</th>\n",
       "      <th>Passengers_5</th>\n",
       "      <th>Passengers_6</th>\n",
       "      <th>Passengers_7</th>\n",
       "      <th>Passengers_8</th>\n",
       "      <th>Origin_non-USA</th>\n",
       "    </tr>\n",
       "  </thead>\n",
       "  <tbody>\n",
       "    <tr>\n",
       "      <th>1</th>\n",
       "      <td>0</td>\n",
       "      <td>0</td>\n",
       "      <td>1</td>\n",
       "      <td>0</td>\n",
       "      <td>0</td>\n",
       "      <td>0</td>\n",
       "      <td>1</td>\n",
       "      <td>1</td>\n",
       "      <td>0</td>\n",
       "      <td>1</td>\n",
       "      <td>...</td>\n",
       "      <td>0</td>\n",
       "      <td>0</td>\n",
       "      <td>0</td>\n",
       "      <td>1</td>\n",
       "      <td>0</td>\n",
       "      <td>1</td>\n",
       "      <td>0</td>\n",
       "      <td>0</td>\n",
       "      <td>0</td>\n",
       "      <td>1</td>\n",
       "    </tr>\n",
       "    <tr>\n",
       "      <th>2</th>\n",
       "      <td>0</td>\n",
       "      <td>1</td>\n",
       "      <td>0</td>\n",
       "      <td>0</td>\n",
       "      <td>0</td>\n",
       "      <td>0</td>\n",
       "      <td>0</td>\n",
       "      <td>1</td>\n",
       "      <td>0</td>\n",
       "      <td>0</td>\n",
       "      <td>...</td>\n",
       "      <td>1</td>\n",
       "      <td>0</td>\n",
       "      <td>0</td>\n",
       "      <td>1</td>\n",
       "      <td>0</td>\n",
       "      <td>1</td>\n",
       "      <td>0</td>\n",
       "      <td>0</td>\n",
       "      <td>0</td>\n",
       "      <td>1</td>\n",
       "    </tr>\n",
       "    <tr>\n",
       "      <th>3</th>\n",
       "      <td>0</td>\n",
       "      <td>0</td>\n",
       "      <td>0</td>\n",
       "      <td>0</td>\n",
       "      <td>0</td>\n",
       "      <td>1</td>\n",
       "      <td>0</td>\n",
       "      <td>1</td>\n",
       "      <td>0</td>\n",
       "      <td>0</td>\n",
       "      <td>...</td>\n",
       "      <td>1</td>\n",
       "      <td>0</td>\n",
       "      <td>0</td>\n",
       "      <td>1</td>\n",
       "      <td>0</td>\n",
       "      <td>1</td>\n",
       "      <td>0</td>\n",
       "      <td>0</td>\n",
       "      <td>0</td>\n",
       "      <td>1</td>\n",
       "    </tr>\n",
       "    <tr>\n",
       "      <th>4</th>\n",
       "      <td>0</td>\n",
       "      <td>1</td>\n",
       "      <td>0</td>\n",
       "      <td>0</td>\n",
       "      <td>0</td>\n",
       "      <td>0</td>\n",
       "      <td>0</td>\n",
       "      <td>1</td>\n",
       "      <td>0</td>\n",
       "      <td>0</td>\n",
       "      <td>...</td>\n",
       "      <td>1</td>\n",
       "      <td>0</td>\n",
       "      <td>0</td>\n",
       "      <td>1</td>\n",
       "      <td>0</td>\n",
       "      <td>0</td>\n",
       "      <td>1</td>\n",
       "      <td>0</td>\n",
       "      <td>0</td>\n",
       "      <td>1</td>\n",
       "    </tr>\n",
       "    <tr>\n",
       "      <th>5</th>\n",
       "      <td>0</td>\n",
       "      <td>1</td>\n",
       "      <td>0</td>\n",
       "      <td>0</td>\n",
       "      <td>0</td>\n",
       "      <td>1</td>\n",
       "      <td>0</td>\n",
       "      <td>0</td>\n",
       "      <td>1</td>\n",
       "      <td>1</td>\n",
       "      <td>...</td>\n",
       "      <td>0</td>\n",
       "      <td>0</td>\n",
       "      <td>0</td>\n",
       "      <td>1</td>\n",
       "      <td>1</td>\n",
       "      <td>0</td>\n",
       "      <td>0</td>\n",
       "      <td>0</td>\n",
       "      <td>0</td>\n",
       "      <td>1</td>\n",
       "    </tr>\n",
       "  </tbody>\n",
       "</table>\n",
       "<p>5 rows × 21 columns</p>\n",
       "</div>"
      ],
      "text/plain": [
       "   Type_Large  Type_Midsize  Type_Small  Type_Sporty  Type_Van  \\\n",
       "1           0             0           1            0         0   \n",
       "2           0             1           0            0         0   \n",
       "3           0             0           0            0         0   \n",
       "4           0             1           0            0         0   \n",
       "5           0             1           0            0         0   \n",
       "\n",
       "   AirBags_Driver only  AirBags_None  DriveTrain_Front  DriveTrain_Rear  \\\n",
       "1                    0             1                 1                0   \n",
       "2                    0             0                 1                0   \n",
       "3                    1             0                 1                0   \n",
       "4                    0             0                 1                0   \n",
       "5                    1             0                 0                1   \n",
       "\n",
       "   Cylinders_4  ...  Cylinders_6  Cylinders_8  Cylinders_rotary  \\\n",
       "1            1  ...            0            0                 0   \n",
       "2            0  ...            1            0                 0   \n",
       "3            0  ...            1            0                 0   \n",
       "4            0  ...            1            0                 0   \n",
       "5            1  ...            0            0                 0   \n",
       "\n",
       "   Man.trans.avail_Yes  Passengers_4  Passengers_5  Passengers_6  \\\n",
       "1                    1             0             1             0   \n",
       "2                    1             0             1             0   \n",
       "3                    1             0             1             0   \n",
       "4                    1             0             0             1   \n",
       "5                    1             1             0             0   \n",
       "\n",
       "   Passengers_7  Passengers_8  Origin_non-USA  \n",
       "1             0             0               1  \n",
       "2             0             0               1  \n",
       "3             0             0               1  \n",
       "4             0             0               1  \n",
       "5             0             0               1  \n",
       "\n",
       "[5 rows x 21 columns]"
      ]
     },
     "execution_count": 70,
     "metadata": {},
     "output_type": "execute_result"
    }
   ],
   "source": [
    "dummy_var.head()"
   ]
  },
  {
   "cell_type": "code",
   "execution_count": 71,
   "metadata": {
    "colab": {
     "base_uri": "https://localhost:8080/"
    },
    "executionInfo": {
     "elapsed": 516,
     "status": "ok",
     "timestamp": 1649585075916,
     "user": {
      "displayName": "Mahesh Anand",
      "userId": "06788086636039591358"
     },
     "user_tz": -330
    },
    "id": "YtGCheGr7nmP",
    "outputId": "8f1d60f0-f5b5-44d5-80bd-2b5e5ebe7844"
   },
   "outputs": [
    {
     "data": {
      "text/plain": [
       "Midsize    22\n",
       "Small      21\n",
       "Compact    16\n",
       "Sporty     14\n",
       "Large      11\n",
       "Van         9\n",
       "Name: Type, dtype: int64"
      ]
     },
     "execution_count": 71,
     "metadata": {},
     "output_type": "execute_result"
    }
   ],
   "source": [
    "B['Type'].value_counts()"
   ]
  },
  {
   "cell_type": "code",
   "execution_count": 72,
   "metadata": {
    "colab": {
     "base_uri": "https://localhost:8080/"
    },
    "executionInfo": {
     "elapsed": 335,
     "status": "ok",
     "timestamp": 1646204564587,
     "user": {
      "displayName": "Mahesh Anand",
      "photoUrl": "https://lh3.googleusercontent.com/a-/AOh14GgEjHTHmcE5H01IJo7KL2-QssgVKGBUBVq_Ch1n5Q=s64",
      "userId": "06788086636039591358"
     },
     "user_tz": -330
    },
    "id": "Ua_97wjhlEs9",
    "outputId": "8863b5d0-ee76-4333-ab60-d2d7fe3de26d"
   },
   "outputs": [
    {
     "data": {
      "text/plain": [
       "(93, 21)"
      ]
     },
     "execution_count": 72,
     "metadata": {},
     "output_type": "execute_result"
    }
   ],
   "source": [
    "X=B.drop('Price',axis=1)\n",
    "X.shape"
   ]
  },
  {
   "cell_type": "code",
   "execution_count": 73,
   "metadata": {
    "colab": {
     "base_uri": "https://localhost:8080/"
    },
    "executionInfo": {
     "elapsed": 342,
     "status": "ok",
     "timestamp": 1649585301068,
     "user": {
      "displayName": "Mahesh Anand",
      "userId": "06788086636039591358"
     },
     "user_tz": -330
    },
    "id": "GGF1NAcGKink",
    "outputId": "8a673973-e972-4fea-8750-3026df2dc3ce"
   },
   "outputs": [
    {
     "data": {
      "text/plain": [
       "(93, 15)"
      ]
     },
     "execution_count": 73,
     "metadata": {},
     "output_type": "execute_result"
    }
   ],
   "source": [
    "df_num = B.select_dtypes(include=[np.number])\n",
    "df_num.shape"
   ]
  },
  {
   "cell_type": "code",
   "execution_count": 74,
   "metadata": {
    "colab": {
     "base_uri": "https://localhost:8080/"
    },
    "executionInfo": {
     "elapsed": 855,
     "status": "ok",
     "timestamp": 1649585360608,
     "user": {
      "displayName": "Mahesh Anand",
      "userId": "06788086636039591358"
     },
     "user_tz": -330
    },
    "id": "eUQKYER0jGzA",
    "outputId": "a235f0c3-8226-4ac3-ef40-643dd9cca34f"
   },
   "outputs": [
    {
     "data": {
      "text/plain": [
       "(93, 36)"
      ]
     },
     "execution_count": 74,
     "metadata": {},
     "output_type": "execute_result"
    }
   ],
   "source": [
    "X_final = pd.concat([df_num, dummy_var], axis=1)\n",
    "\n",
    "# display first five observations\n",
    "X_final.shape"
   ]
  },
  {
   "cell_type": "code",
   "execution_count": 75,
   "metadata": {
    "colab": {
     "base_uri": "https://localhost:8080/"
    },
    "executionInfo": {
     "elapsed": 592,
     "status": "ok",
     "timestamp": 1649585557853,
     "user": {
      "displayName": "Mahesh Anand",
      "userId": "06788086636039591358"
     },
     "user_tz": -330
    },
    "id": "r31NtbEvjjbX",
    "outputId": "5da92aa1-d221-4895-b3b7-8da2ed1c28c6"
   },
   "outputs": [
    {
     "data": {
      "text/plain": [
       "(93,)"
      ]
     },
     "execution_count": 75,
     "metadata": {},
     "output_type": "execute_result"
    }
   ],
   "source": [
    "Y=B['Price']\n",
    "Y.shape"
   ]
  },
  {
   "cell_type": "code",
   "execution_count": 76,
   "metadata": {
    "id": "afTpEWgrkCxc"
   },
   "outputs": [],
   "source": [
    "X_final=X_final.drop('Price',axis=1)"
   ]
  },
  {
   "cell_type": "code",
   "execution_count": 77,
   "metadata": {
    "id": "-6hvwLIcLpwj"
   },
   "outputs": [],
   "source": [
    "import statsmodels.api as sm\n",
    "from statsmodels.api import add_constant"
   ]
  },
  {
   "cell_type": "code",
   "execution_count": 78,
   "metadata": {
    "colab": {
     "base_uri": "https://localhost:8080/",
     "height": 1000
    },
    "executionInfo": {
     "elapsed": 819,
     "status": "ok",
     "timestamp": 1649586245684,
     "user": {
      "displayName": "Mahesh Anand",
      "userId": "06788086636039591358"
     },
     "user_tz": -330
    },
    "id": "a_f95_2Y9vuz",
    "outputId": "9faba447-b2c0-4207-a814-58150635a01c"
   },
   "outputs": [
    {
     "name": "stderr",
     "output_type": "stream",
     "text": [
      "C:\\Users\\yaman\\anaconda3\\lib\\site-packages\\statsmodels\\tsa\\tsatools.py:142: FutureWarning: In a future version of pandas all arguments of concat except for the argument 'objs' will be keyword-only\n",
      "  x = pd.concat(x[::order], 1)\n"
     ]
    },
    {
     "data": {
      "text/html": [
       "<table class=\"simpletable\">\n",
       "<caption>OLS Regression Results</caption>\n",
       "<tr>\n",
       "  <th>Dep. Variable:</th>          <td>Price</td>      <th>  R-squared:         </th> <td>   0.855</td>\n",
       "</tr>\n",
       "<tr>\n",
       "  <th>Model:</th>                   <td>OLS</td>       <th>  Adj. R-squared:    </th> <td>   0.770</td>\n",
       "</tr>\n",
       "<tr>\n",
       "  <th>Method:</th>             <td>Least Squares</td>  <th>  F-statistic:       </th> <td>   10.06</td>\n",
       "</tr>\n",
       "<tr>\n",
       "  <th>Date:</th>             <td>Fri, 06 May 2022</td> <th>  Prob (F-statistic):</th> <td>2.77e-14</td>\n",
       "</tr>\n",
       "<tr>\n",
       "  <th>Time:</th>                 <td>14:41:59</td>     <th>  Log-Likelihood:    </th> <td> -252.59</td>\n",
       "</tr>\n",
       "<tr>\n",
       "  <th>No. Observations:</th>      <td>    93</td>      <th>  AIC:               </th> <td>   575.2</td>\n",
       "</tr>\n",
       "<tr>\n",
       "  <th>Df Residuals:</th>          <td>    58</td>      <th>  BIC:               </th> <td>   663.8</td>\n",
       "</tr>\n",
       "<tr>\n",
       "  <th>Df Model:</th>              <td>    34</td>      <th>                     </th>     <td> </td>   \n",
       "</tr>\n",
       "<tr>\n",
       "  <th>Covariance Type:</th>      <td>nonrobust</td>    <th>                     </th>     <td> </td>   \n",
       "</tr>\n",
       "</table>\n",
       "<table class=\"simpletable\">\n",
       "<tr>\n",
       "           <td></td>              <th>coef</th>     <th>std err</th>      <th>t</th>      <th>P>|t|</th>  <th>[0.025</th>    <th>0.975]</th>  \n",
       "</tr>\n",
       "<tr>\n",
       "  <th>const</th>               <td>  110.8270</td> <td>   35.770</td> <td>    3.098</td> <td> 0.003</td> <td>   39.226</td> <td>  182.428</td>\n",
       "</tr>\n",
       "<tr>\n",
       "  <th>MPG.city</th>            <td>   -0.3244</td> <td>    0.432</td> <td>   -0.750</td> <td> 0.456</td> <td>   -1.190</td> <td>    0.541</td>\n",
       "</tr>\n",
       "<tr>\n",
       "  <th>MPG.highway</th>         <td>    0.1691</td> <td>    0.398</td> <td>    0.425</td> <td> 0.672</td> <td>   -0.627</td> <td>    0.965</td>\n",
       "</tr>\n",
       "<tr>\n",
       "  <th>EngineSize</th>          <td>   -1.6774</td> <td>    2.828</td> <td>   -0.593</td> <td> 0.555</td> <td>   -7.337</td> <td>    3.983</td>\n",
       "</tr>\n",
       "<tr>\n",
       "  <th>Horsepower</th>          <td>    0.1388</td> <td>    0.045</td> <td>    3.088</td> <td> 0.003</td> <td>    0.049</td> <td>    0.229</td>\n",
       "</tr>\n",
       "<tr>\n",
       "  <th>RPM</th>                 <td>   -0.0026</td> <td>    0.002</td> <td>   -1.169</td> <td> 0.247</td> <td>   -0.007</td> <td>    0.002</td>\n",
       "</tr>\n",
       "<tr>\n",
       "  <th>Rev.per.mile</th>        <td>    0.0017</td> <td>    0.002</td> <td>    0.771</td> <td> 0.444</td> <td>   -0.003</td> <td>    0.006</td>\n",
       "</tr>\n",
       "<tr>\n",
       "  <th>Fuel.tank.capacity</th>  <td>    0.4672</td> <td>    0.540</td> <td>    0.865</td> <td> 0.391</td> <td>   -0.614</td> <td>    1.549</td>\n",
       "</tr>\n",
       "<tr>\n",
       "  <th>Length</th>              <td>    0.0485</td> <td>    0.110</td> <td>    0.443</td> <td> 0.660</td> <td>   -0.171</td> <td>    0.268</td>\n",
       "</tr>\n",
       "<tr>\n",
       "  <th>Wheelbase</th>           <td>    0.3850</td> <td>    0.274</td> <td>    1.407</td> <td> 0.165</td> <td>   -0.163</td> <td>    0.933</td>\n",
       "</tr>\n",
       "<tr>\n",
       "  <th>Width</th>               <td>   -1.9087</td> <td>    0.544</td> <td>   -3.511</td> <td> 0.001</td> <td>   -2.997</td> <td>   -0.820</td>\n",
       "</tr>\n",
       "<tr>\n",
       "  <th>Turn.circle</th>         <td>   -0.6224</td> <td>    0.365</td> <td>   -1.703</td> <td> 0.094</td> <td>   -1.354</td> <td>    0.109</td>\n",
       "</tr>\n",
       "<tr>\n",
       "  <th>Rear.seat.room</th>      <td>    0.3343</td> <td>    0.359</td> <td>    0.932</td> <td> 0.355</td> <td>   -0.384</td> <td>    1.053</td>\n",
       "</tr>\n",
       "<tr>\n",
       "  <th>Luggage.room</th>        <td>    0.2737</td> <td>    0.339</td> <td>    0.808</td> <td> 0.423</td> <td>   -0.405</td> <td>    0.952</td>\n",
       "</tr>\n",
       "<tr>\n",
       "  <th>Weight</th>              <td>   -0.0013</td> <td>    0.006</td> <td>   -0.237</td> <td> 0.813</td> <td>   -0.013</td> <td>    0.010</td>\n",
       "</tr>\n",
       "<tr>\n",
       "  <th>Type_Large</th>          <td>    1.5368</td> <td>    4.227</td> <td>    0.364</td> <td> 0.718</td> <td>   -6.925</td> <td>    9.999</td>\n",
       "</tr>\n",
       "<tr>\n",
       "  <th>Type_Midsize</th>        <td>    3.9322</td> <td>    2.457</td> <td>    1.601</td> <td> 0.115</td> <td>   -0.986</td> <td>    8.850</td>\n",
       "</tr>\n",
       "<tr>\n",
       "  <th>Type_Small</th>          <td>    1.1903</td> <td>    2.657</td> <td>    0.448</td> <td> 0.656</td> <td>   -4.129</td> <td>    6.509</td>\n",
       "</tr>\n",
       "<tr>\n",
       "  <th>Type_Sporty</th>         <td>    6.5059</td> <td>    3.371</td> <td>    1.930</td> <td> 0.059</td> <td>   -0.242</td> <td>   13.254</td>\n",
       "</tr>\n",
       "<tr>\n",
       "  <th>Type_Van</th>            <td>    3.6835</td> <td>    7.196</td> <td>    0.512</td> <td> 0.611</td> <td>  -10.722</td> <td>   18.089</td>\n",
       "</tr>\n",
       "<tr>\n",
       "  <th>AirBags_Driver only</th> <td>   -3.7364</td> <td>    1.897</td> <td>   -1.970</td> <td> 0.054</td> <td>   -7.533</td> <td>    0.060</td>\n",
       "</tr>\n",
       "<tr>\n",
       "  <th>AirBags_None</th>        <td>   -8.3008</td> <td>    2.181</td> <td>   -3.806</td> <td> 0.000</td> <td>  -12.666</td> <td>   -3.936</td>\n",
       "</tr>\n",
       "<tr>\n",
       "  <th>DriveTrain_Front</th>    <td>    2.2805</td> <td>    2.297</td> <td>    0.993</td> <td> 0.325</td> <td>   -2.318</td> <td>    6.879</td>\n",
       "</tr>\n",
       "<tr>\n",
       "  <th>DriveTrain_Rear</th>     <td>    7.2573</td> <td>    2.915</td> <td>    2.490</td> <td> 0.016</td> <td>    1.423</td> <td>   13.092</td>\n",
       "</tr>\n",
       "<tr>\n",
       "  <th>Cylinders_4</th>         <td>   -2.1621</td> <td>    4.446</td> <td>   -0.486</td> <td> 0.629</td> <td>  -11.061</td> <td>    6.737</td>\n",
       "</tr>\n",
       "<tr>\n",
       "  <th>Cylinders_5</th>         <td>   -3.5966</td> <td>    6.722</td> <td>   -0.535</td> <td> 0.595</td> <td>  -17.052</td> <td>    9.859</td>\n",
       "</tr>\n",
       "<tr>\n",
       "  <th>Cylinders_6</th>         <td>    0.8184</td> <td>    5.614</td> <td>    0.146</td> <td> 0.885</td> <td>  -10.419</td> <td>   12.056</td>\n",
       "</tr>\n",
       "<tr>\n",
       "  <th>Cylinders_8</th>         <td>    3.4500</td> <td>    6.832</td> <td>    0.505</td> <td> 0.616</td> <td>  -10.226</td> <td>   17.126</td>\n",
       "</tr>\n",
       "<tr>\n",
       "  <th>Cylinders_rotary</th>    <td>  -15.0831</td> <td>   12.735</td> <td>   -1.184</td> <td> 0.241</td> <td>  -40.576</td> <td>   10.410</td>\n",
       "</tr>\n",
       "<tr>\n",
       "  <th>Man.trans.avail_Yes</th> <td>   -1.9656</td> <td>    2.167</td> <td>   -0.907</td> <td> 0.368</td> <td>   -6.303</td> <td>    2.372</td>\n",
       "</tr>\n",
       "<tr>\n",
       "  <th>Passengers_4</th>        <td>   -5.4956</td> <td>    7.065</td> <td>   -0.778</td> <td> 0.440</td> <td>  -19.638</td> <td>    8.646</td>\n",
       "</tr>\n",
       "<tr>\n",
       "  <th>Passengers_5</th>        <td>   -2.3710</td> <td>    7.490</td> <td>   -0.317</td> <td> 0.753</td> <td>  -17.363</td> <td>   12.621</td>\n",
       "</tr>\n",
       "<tr>\n",
       "  <th>Passengers_6</th>        <td>   -2.3840</td> <td>    8.221</td> <td>   -0.290</td> <td> 0.773</td> <td>  -18.840</td> <td>   14.072</td>\n",
       "</tr>\n",
       "<tr>\n",
       "  <th>Passengers_7</th>        <td>    0.3024</td> <td>    4.116</td> <td>    0.073</td> <td> 0.942</td> <td>   -7.936</td> <td>    8.541</td>\n",
       "</tr>\n",
       "<tr>\n",
       "  <th>Passengers_8</th>        <td>    3.3811</td> <td>    5.639</td> <td>    0.600</td> <td> 0.551</td> <td>   -7.907</td> <td>   14.670</td>\n",
       "</tr>\n",
       "<tr>\n",
       "  <th>Origin_non-USA</th>      <td>    0.8789</td> <td>    1.641</td> <td>    0.536</td> <td> 0.594</td> <td>   -2.406</td> <td>    4.164</td>\n",
       "</tr>\n",
       "</table>\n",
       "<table class=\"simpletable\">\n",
       "<tr>\n",
       "  <th>Omnibus:</th>       <td>13.833</td> <th>  Durbin-Watson:     </th> <td>   1.771</td>\n",
       "</tr>\n",
       "<tr>\n",
       "  <th>Prob(Omnibus):</th> <td> 0.001</td> <th>  Jarque-Bera (JB):  </th> <td>  21.576</td>\n",
       "</tr>\n",
       "<tr>\n",
       "  <th>Skew:</th>          <td> 0.628</td> <th>  Prob(JB):          </th> <td>2.06e-05</td>\n",
       "</tr>\n",
       "<tr>\n",
       "  <th>Kurtosis:</th>      <td> 4.997</td> <th>  Cond. No.          </th> <td>1.00e+16</td>\n",
       "</tr>\n",
       "</table><br/><br/>Notes:<br/>[1] Standard Errors assume that the covariance matrix of the errors is correctly specified.<br/>[2] The smallest eigenvalue is 3.98e-23. This might indicate that there are<br/>strong multicollinearity problems or that the design matrix is singular."
      ],
      "text/plain": [
       "<class 'statsmodels.iolib.summary.Summary'>\n",
       "\"\"\"\n",
       "                            OLS Regression Results                            \n",
       "==============================================================================\n",
       "Dep. Variable:                  Price   R-squared:                       0.855\n",
       "Model:                            OLS   Adj. R-squared:                  0.770\n",
       "Method:                 Least Squares   F-statistic:                     10.06\n",
       "Date:                Fri, 06 May 2022   Prob (F-statistic):           2.77e-14\n",
       "Time:                        14:41:59   Log-Likelihood:                -252.59\n",
       "No. Observations:                  93   AIC:                             575.2\n",
       "Df Residuals:                      58   BIC:                             663.8\n",
       "Df Model:                          34                                         \n",
       "Covariance Type:            nonrobust                                         \n",
       "=======================================================================================\n",
       "                          coef    std err          t      P>|t|      [0.025      0.975]\n",
       "---------------------------------------------------------------------------------------\n",
       "const                 110.8270     35.770      3.098      0.003      39.226     182.428\n",
       "MPG.city               -0.3244      0.432     -0.750      0.456      -1.190       0.541\n",
       "MPG.highway             0.1691      0.398      0.425      0.672      -0.627       0.965\n",
       "EngineSize             -1.6774      2.828     -0.593      0.555      -7.337       3.983\n",
       "Horsepower              0.1388      0.045      3.088      0.003       0.049       0.229\n",
       "RPM                    -0.0026      0.002     -1.169      0.247      -0.007       0.002\n",
       "Rev.per.mile            0.0017      0.002      0.771      0.444      -0.003       0.006\n",
       "Fuel.tank.capacity      0.4672      0.540      0.865      0.391      -0.614       1.549\n",
       "Length                  0.0485      0.110      0.443      0.660      -0.171       0.268\n",
       "Wheelbase               0.3850      0.274      1.407      0.165      -0.163       0.933\n",
       "Width                  -1.9087      0.544     -3.511      0.001      -2.997      -0.820\n",
       "Turn.circle            -0.6224      0.365     -1.703      0.094      -1.354       0.109\n",
       "Rear.seat.room          0.3343      0.359      0.932      0.355      -0.384       1.053\n",
       "Luggage.room            0.2737      0.339      0.808      0.423      -0.405       0.952\n",
       "Weight                 -0.0013      0.006     -0.237      0.813      -0.013       0.010\n",
       "Type_Large              1.5368      4.227      0.364      0.718      -6.925       9.999\n",
       "Type_Midsize            3.9322      2.457      1.601      0.115      -0.986       8.850\n",
       "Type_Small              1.1903      2.657      0.448      0.656      -4.129       6.509\n",
       "Type_Sporty             6.5059      3.371      1.930      0.059      -0.242      13.254\n",
       "Type_Van                3.6835      7.196      0.512      0.611     -10.722      18.089\n",
       "AirBags_Driver only    -3.7364      1.897     -1.970      0.054      -7.533       0.060\n",
       "AirBags_None           -8.3008      2.181     -3.806      0.000     -12.666      -3.936\n",
       "DriveTrain_Front        2.2805      2.297      0.993      0.325      -2.318       6.879\n",
       "DriveTrain_Rear         7.2573      2.915      2.490      0.016       1.423      13.092\n",
       "Cylinders_4            -2.1621      4.446     -0.486      0.629     -11.061       6.737\n",
       "Cylinders_5            -3.5966      6.722     -0.535      0.595     -17.052       9.859\n",
       "Cylinders_6             0.8184      5.614      0.146      0.885     -10.419      12.056\n",
       "Cylinders_8             3.4500      6.832      0.505      0.616     -10.226      17.126\n",
       "Cylinders_rotary      -15.0831     12.735     -1.184      0.241     -40.576      10.410\n",
       "Man.trans.avail_Yes    -1.9656      2.167     -0.907      0.368      -6.303       2.372\n",
       "Passengers_4           -5.4956      7.065     -0.778      0.440     -19.638       8.646\n",
       "Passengers_5           -2.3710      7.490     -0.317      0.753     -17.363      12.621\n",
       "Passengers_6           -2.3840      8.221     -0.290      0.773     -18.840      14.072\n",
       "Passengers_7            0.3024      4.116      0.073      0.942      -7.936       8.541\n",
       "Passengers_8            3.3811      5.639      0.600      0.551      -7.907      14.670\n",
       "Origin_non-USA          0.8789      1.641      0.536      0.594      -2.406       4.164\n",
       "==============================================================================\n",
       "Omnibus:                       13.833   Durbin-Watson:                   1.771\n",
       "Prob(Omnibus):                  0.001   Jarque-Bera (JB):               21.576\n",
       "Skew:                           0.628   Prob(JB):                     2.06e-05\n",
       "Kurtosis:                       4.997   Cond. No.                     1.00e+16\n",
       "==============================================================================\n",
       "\n",
       "Notes:\n",
       "[1] Standard Errors assume that the covariance matrix of the errors is correctly specified.\n",
       "[2] The smallest eigenvalue is 3.98e-23. This might indicate that there are\n",
       "strong multicollinearity problems or that the design matrix is singular.\n",
       "\"\"\""
      ]
     },
     "execution_count": 78,
     "metadata": {},
     "output_type": "execute_result"
    }
   ],
   "source": [
    "Xc = sm.add_constant(X_final)\n",
    "model = sm.OLS(Y,Xc).fit()\n",
    "model.summary()    "
   ]
  },
  {
   "cell_type": "code",
   "execution_count": 79,
   "metadata": {
    "colab": {
     "base_uri": "https://localhost:8080/"
    },
    "executionInfo": {
     "elapsed": 365,
     "status": "ok",
     "timestamp": 1649586792471,
     "user": {
      "displayName": "Mahesh Anand",
      "userId": "06788086636039591358"
     },
     "user_tz": -330
    },
    "id": "e8eup4uDBh6Y",
    "outputId": "8fbfa9f3-b1ac-43a0-fce9-8826877e2f76"
   },
   "outputs": [
    {
     "data": {
      "text/plain": [
       "0.6387260851965743"
      ]
     },
     "execution_count": 79,
     "metadata": {},
     "output_type": "execute_result"
    }
   ],
   "source": [
    "R=pd.DataFrame(model.resid)\n",
    "R[0].skew()"
   ]
  },
  {
   "cell_type": "code",
   "execution_count": 80,
   "metadata": {
    "colab": {
     "base_uri": "https://localhost:8080/"
    },
    "executionInfo": {
     "elapsed": 1164,
     "status": "ok",
     "timestamp": 1649588568364,
     "user": {
      "displayName": "Mahesh Anand",
      "userId": "06788086636039591358"
     },
     "user_tz": -330
    },
    "id": "zs9cLmUGIwSI",
    "outputId": "2f508afa-9aab-446d-a904-6ec3e4680b6e"
   },
   "outputs": [
    {
     "name": "stdout",
     "output_type": "stream",
     "text": [
      "0.9416850917337998\n",
      "Passengers_7\n"
     ]
    }
   ],
   "source": [
    "p = pd.Series(model.pvalues.values[1:],index = X_final.columns)      \n",
    "pmax = max(p)\n",
    "feature_with_p_max = p.idxmax()\n",
    "print(pmax)\n",
    "print(feature_with_p_max)"
   ]
  },
  {
   "cell_type": "code",
   "execution_count": 81,
   "metadata": {
    "colab": {
     "base_uri": "https://localhost:8080/"
    },
    "executionInfo": {
     "elapsed": 452,
     "status": "ok",
     "timestamp": 1649588992845,
     "user": {
      "displayName": "Mahesh Anand",
      "userId": "06788086636039591358"
     },
     "user_tz": -330
    },
    "id": "_zJ0kPdfm8Rl",
    "outputId": "9f393797-e9ab-44bd-eaa3-6de4a308a023"
   },
   "outputs": [
    {
     "name": "stderr",
     "output_type": "stream",
     "text": [
      "C:\\Users\\yaman\\anaconda3\\lib\\site-packages\\statsmodels\\tsa\\tsatools.py:142: FutureWarning: In a future version of pandas all arguments of concat except for the argument 'objs' will be keyword-only\n",
      "  x = pd.concat(x[::order], 1)\n",
      "C:\\Users\\yaman\\anaconda3\\lib\\site-packages\\statsmodels\\tsa\\tsatools.py:142: FutureWarning: In a future version of pandas all arguments of concat except for the argument 'objs' will be keyword-only\n",
      "  x = pd.concat(x[::order], 1)\n",
      "C:\\Users\\yaman\\anaconda3\\lib\\site-packages\\statsmodels\\tsa\\tsatools.py:142: FutureWarning: In a future version of pandas all arguments of concat except for the argument 'objs' will be keyword-only\n",
      "  x = pd.concat(x[::order], 1)\n",
      "C:\\Users\\yaman\\anaconda3\\lib\\site-packages\\statsmodels\\tsa\\tsatools.py:142: FutureWarning: In a future version of pandas all arguments of concat except for the argument 'objs' will be keyword-only\n",
      "  x = pd.concat(x[::order], 1)\n",
      "C:\\Users\\yaman\\anaconda3\\lib\\site-packages\\statsmodels\\tsa\\tsatools.py:142: FutureWarning: In a future version of pandas all arguments of concat except for the argument 'objs' will be keyword-only\n",
      "  x = pd.concat(x[::order], 1)\n",
      "C:\\Users\\yaman\\anaconda3\\lib\\site-packages\\statsmodels\\tsa\\tsatools.py:142: FutureWarning: In a future version of pandas all arguments of concat except for the argument 'objs' will be keyword-only\n",
      "  x = pd.concat(x[::order], 1)\n",
      "C:\\Users\\yaman\\anaconda3\\lib\\site-packages\\statsmodels\\tsa\\tsatools.py:142: FutureWarning: In a future version of pandas all arguments of concat except for the argument 'objs' will be keyword-only\n",
      "  x = pd.concat(x[::order], 1)\n",
      "C:\\Users\\yaman\\anaconda3\\lib\\site-packages\\statsmodels\\tsa\\tsatools.py:142: FutureWarning: In a future version of pandas all arguments of concat except for the argument 'objs' will be keyword-only\n",
      "  x = pd.concat(x[::order], 1)\n",
      "C:\\Users\\yaman\\anaconda3\\lib\\site-packages\\statsmodels\\tsa\\tsatools.py:142: FutureWarning: In a future version of pandas all arguments of concat except for the argument 'objs' will be keyword-only\n",
      "  x = pd.concat(x[::order], 1)\n",
      "C:\\Users\\yaman\\anaconda3\\lib\\site-packages\\statsmodels\\tsa\\tsatools.py:142: FutureWarning: In a future version of pandas all arguments of concat except for the argument 'objs' will be keyword-only\n",
      "  x = pd.concat(x[::order], 1)\n",
      "C:\\Users\\yaman\\anaconda3\\lib\\site-packages\\statsmodels\\tsa\\tsatools.py:142: FutureWarning: In a future version of pandas all arguments of concat except for the argument 'objs' will be keyword-only\n",
      "  x = pd.concat(x[::order], 1)\n",
      "C:\\Users\\yaman\\anaconda3\\lib\\site-packages\\statsmodels\\tsa\\tsatools.py:142: FutureWarning: In a future version of pandas all arguments of concat except for the argument 'objs' will be keyword-only\n",
      "  x = pd.concat(x[::order], 1)\n",
      "C:\\Users\\yaman\\anaconda3\\lib\\site-packages\\statsmodels\\tsa\\tsatools.py:142: FutureWarning: In a future version of pandas all arguments of concat except for the argument 'objs' will be keyword-only\n",
      "  x = pd.concat(x[::order], 1)\n",
      "C:\\Users\\yaman\\anaconda3\\lib\\site-packages\\statsmodels\\tsa\\tsatools.py:142: FutureWarning: In a future version of pandas all arguments of concat except for the argument 'objs' will be keyword-only\n",
      "  x = pd.concat(x[::order], 1)\n",
      "C:\\Users\\yaman\\anaconda3\\lib\\site-packages\\statsmodels\\tsa\\tsatools.py:142: FutureWarning: In a future version of pandas all arguments of concat except for the argument 'objs' will be keyword-only\n",
      "  x = pd.concat(x[::order], 1)\n",
      "C:\\Users\\yaman\\anaconda3\\lib\\site-packages\\statsmodels\\tsa\\tsatools.py:142: FutureWarning: In a future version of pandas all arguments of concat except for the argument 'objs' will be keyword-only\n",
      "  x = pd.concat(x[::order], 1)\n",
      "C:\\Users\\yaman\\anaconda3\\lib\\site-packages\\statsmodels\\tsa\\tsatools.py:142: FutureWarning: In a future version of pandas all arguments of concat except for the argument 'objs' will be keyword-only\n",
      "  x = pd.concat(x[::order], 1)\n",
      "C:\\Users\\yaman\\anaconda3\\lib\\site-packages\\statsmodels\\tsa\\tsatools.py:142: FutureWarning: In a future version of pandas all arguments of concat except for the argument 'objs' will be keyword-only\n",
      "  x = pd.concat(x[::order], 1)\n",
      "C:\\Users\\yaman\\anaconda3\\lib\\site-packages\\statsmodels\\tsa\\tsatools.py:142: FutureWarning: In a future version of pandas all arguments of concat except for the argument 'objs' will be keyword-only\n",
      "  x = pd.concat(x[::order], 1)\n",
      "C:\\Users\\yaman\\anaconda3\\lib\\site-packages\\statsmodels\\tsa\\tsatools.py:142: FutureWarning: In a future version of pandas all arguments of concat except for the argument 'objs' will be keyword-only\n",
      "  x = pd.concat(x[::order], 1)\n",
      "C:\\Users\\yaman\\anaconda3\\lib\\site-packages\\statsmodels\\tsa\\tsatools.py:142: FutureWarning: In a future version of pandas all arguments of concat except for the argument 'objs' will be keyword-only\n",
      "  x = pd.concat(x[::order], 1)\n",
      "C:\\Users\\yaman\\anaconda3\\lib\\site-packages\\statsmodels\\tsa\\tsatools.py:142: FutureWarning: In a future version of pandas all arguments of concat except for the argument 'objs' will be keyword-only\n",
      "  x = pd.concat(x[::order], 1)\n",
      "C:\\Users\\yaman\\anaconda3\\lib\\site-packages\\statsmodels\\tsa\\tsatools.py:142: FutureWarning: In a future version of pandas all arguments of concat except for the argument 'objs' will be keyword-only\n",
      "  x = pd.concat(x[::order], 1)\n",
      "C:\\Users\\yaman\\anaconda3\\lib\\site-packages\\statsmodels\\tsa\\tsatools.py:142: FutureWarning: In a future version of pandas all arguments of concat except for the argument 'objs' will be keyword-only\n",
      "  x = pd.concat(x[::order], 1)\n",
      "C:\\Users\\yaman\\anaconda3\\lib\\site-packages\\statsmodels\\tsa\\tsatools.py:142: FutureWarning: In a future version of pandas all arguments of concat except for the argument 'objs' will be keyword-only\n",
      "  x = pd.concat(x[::order], 1)\n",
      "C:\\Users\\yaman\\anaconda3\\lib\\site-packages\\statsmodels\\tsa\\tsatools.py:142: FutureWarning: In a future version of pandas all arguments of concat except for the argument 'objs' will be keyword-only\n",
      "  x = pd.concat(x[::order], 1)\n",
      "C:\\Users\\yaman\\anaconda3\\lib\\site-packages\\statsmodels\\tsa\\tsatools.py:142: FutureWarning: In a future version of pandas all arguments of concat except for the argument 'objs' will be keyword-only\n",
      "  x = pd.concat(x[::order], 1)\n",
      "C:\\Users\\yaman\\anaconda3\\lib\\site-packages\\statsmodels\\tsa\\tsatools.py:142: FutureWarning: In a future version of pandas all arguments of concat except for the argument 'objs' will be keyword-only\n",
      "  x = pd.concat(x[::order], 1)\n"
     ]
    }
   ],
   "source": [
    "#Feature Selection by Recursive Backward Elimination\n",
    "cols=list(X_final.columns)\n",
    "pmax = 1\n",
    "while (len(cols)>0):\n",
    "    p= []\n",
    "    X_final = X_final[cols]\n",
    "    Xc = sm.add_constant(X_final)\n",
    "    model_full = sm.OLS(Y,Xc).fit()\n",
    "    p = pd.Series(model_full.pvalues.values[1:],index = cols)      \n",
    "    pmax = max(p)\n",
    "    feature_with_p_max = p.idxmax()\n",
    "    if(pmax>0.05):\n",
    "        cols.remove(feature_with_p_max)\n",
    "    else:\n",
    "        break\n",
    "selected_features = cols\n"
   ]
  },
  {
   "cell_type": "code",
   "execution_count": 82,
   "metadata": {
    "colab": {
     "base_uri": "https://localhost:8080/"
    },
    "executionInfo": {
     "elapsed": 629,
     "status": "ok",
     "timestamp": 1649589018674,
     "user": {
      "displayName": "Mahesh Anand",
      "userId": "06788086636039591358"
     },
     "user_tz": -330
    },
    "id": "Xd8Q2fh7Ksb_",
    "outputId": "ee406852-2c43-48be-b103-cad3366755b7"
   },
   "outputs": [
    {
     "name": "stdout",
     "output_type": "stream",
     "text": [
      "['Horsepower', 'Fuel.tank.capacity', 'Wheelbase', 'Width', 'Type_Midsize', 'AirBags_Driver only', 'AirBags_None', 'DriveTrain_Rear']\n"
     ]
    }
   ],
   "source": [
    "print(selected_features)"
   ]
  },
  {
   "cell_type": "code",
   "execution_count": 83,
   "metadata": {
    "colab": {
     "base_uri": "https://localhost:8080/"
    },
    "executionInfo": {
     "elapsed": 377,
     "status": "ok",
     "timestamp": 1649589043831,
     "user": {
      "displayName": "Mahesh Anand",
      "userId": "06788086636039591358"
     },
     "user_tz": -330
    },
    "id": "bx94NkvZcuPN",
    "outputId": "6c328334-54af-45eb-841b-ac70a7f6d863"
   },
   "outputs": [
    {
     "data": {
      "text/plain": [
       "(93, 8)"
      ]
     },
     "execution_count": 83,
     "metadata": {},
     "output_type": "execute_result"
    }
   ],
   "source": [
    "X_new=X_final[selected_features]\n",
    "X_new.shape"
   ]
  },
  {
   "cell_type": "code",
   "execution_count": 84,
   "metadata": {
    "colab": {
     "base_uri": "https://localhost:8080/"
    },
    "executionInfo": {
     "elapsed": 865,
     "status": "ok",
     "timestamp": 1649589066403,
     "user": {
      "displayName": "Mahesh Anand",
      "userId": "06788086636039591358"
     },
     "user_tz": -330
    },
    "id": "nbzrjPQ_cdiL",
    "outputId": "812f1111-fd24-43fd-8687-bfae0067336d"
   },
   "outputs": [
    {
     "data": {
      "text/plain": [
       "Index(['Horsepower', 'Fuel.tank.capacity', 'Wheelbase', 'Width',\n",
       "       'Type_Midsize', 'AirBags_Driver only', 'AirBags_None',\n",
       "       'DriveTrain_Rear'],\n",
       "      dtype='object')"
      ]
     },
     "execution_count": 84,
     "metadata": {},
     "output_type": "execute_result"
    }
   ],
   "source": [
    "X_new.columns"
   ]
  },
  {
   "cell_type": "code",
   "execution_count": 85,
   "metadata": {
    "colab": {
     "base_uri": "https://localhost:8080/"
    },
    "executionInfo": {
     "elapsed": 592,
     "status": "ok",
     "timestamp": 1649589123414,
     "user": {
      "displayName": "Mahesh Anand",
      "userId": "06788086636039591358"
     },
     "user_tz": -330
    },
    "id": "Su8Ta6XRn2M-",
    "outputId": "25faa29d-89bb-4f44-c08d-ff1d62350aed"
   },
   "outputs": [
    {
     "name": "stderr",
     "output_type": "stream",
     "text": [
      "C:\\Users\\yaman\\anaconda3\\lib\\site-packages\\statsmodels\\tsa\\tsatools.py:142: FutureWarning: In a future version of pandas all arguments of concat except for the argument 'objs' will be keyword-only\n",
      "  x = pd.concat(x[::order], 1)\n"
     ]
    }
   ],
   "source": [
    "X_new_c=sm.add_constant(X_new)"
   ]
  },
  {
   "cell_type": "code",
   "execution_count": 86,
   "metadata": {
    "id": "Oce_pmf_n_kX"
   },
   "outputs": [],
   "source": [
    "model2=sm.OLS(Y,X_new_c).fit()"
   ]
  },
  {
   "cell_type": "code",
   "execution_count": 87,
   "metadata": {
    "colab": {
     "base_uri": "https://localhost:8080/",
     "height": 721
    },
    "executionInfo": {
     "elapsed": 39,
     "status": "ok",
     "timestamp": 1649589140651,
     "user": {
      "displayName": "Mahesh Anand",
      "userId": "06788086636039591358"
     },
     "user_tz": -330
    },
    "id": "0n0LjPdJoDNn",
    "outputId": "073607d3-3354-497c-e653-7a3a8ec650e0"
   },
   "outputs": [
    {
     "data": {
      "text/html": [
       "<table class=\"simpletable\">\n",
       "<caption>OLS Regression Results</caption>\n",
       "<tr>\n",
       "  <th>Dep. Variable:</th>          <td>Price</td>      <th>  R-squared:         </th> <td>   0.792</td>\n",
       "</tr>\n",
       "<tr>\n",
       "  <th>Model:</th>                   <td>OLS</td>       <th>  Adj. R-squared:    </th> <td>   0.773</td>\n",
       "</tr>\n",
       "<tr>\n",
       "  <th>Method:</th>             <td>Least Squares</td>  <th>  F-statistic:       </th> <td>   40.08</td>\n",
       "</tr>\n",
       "<tr>\n",
       "  <th>Date:</th>             <td>Fri, 06 May 2022</td> <th>  Prob (F-statistic):</th> <td>1.51e-25</td>\n",
       "</tr>\n",
       "<tr>\n",
       "  <th>Time:</th>                 <td>14:41:59</td>     <th>  Log-Likelihood:    </th> <td> -269.27</td>\n",
       "</tr>\n",
       "<tr>\n",
       "  <th>No. Observations:</th>      <td>    93</td>      <th>  AIC:               </th> <td>   556.5</td>\n",
       "</tr>\n",
       "<tr>\n",
       "  <th>Df Residuals:</th>          <td>    84</td>      <th>  BIC:               </th> <td>   579.3</td>\n",
       "</tr>\n",
       "<tr>\n",
       "  <th>Df Model:</th>              <td>     8</td>      <th>                     </th>     <td> </td>   \n",
       "</tr>\n",
       "<tr>\n",
       "  <th>Covariance Type:</th>      <td>nonrobust</td>    <th>                     </th>     <td> </td>   \n",
       "</tr>\n",
       "</table>\n",
       "<table class=\"simpletable\">\n",
       "<tr>\n",
       "           <td></td>              <th>coef</th>     <th>std err</th>      <th>t</th>      <th>P>|t|</th>  <th>[0.025</th>    <th>0.975]</th>  \n",
       "</tr>\n",
       "<tr>\n",
       "  <th>const</th>               <td>   45.2793</td> <td>   13.385</td> <td>    3.383</td> <td> 0.001</td> <td>   18.662</td> <td>   71.897</td>\n",
       "</tr>\n",
       "<tr>\n",
       "  <th>Horsepower</th>          <td>    0.1137</td> <td>    0.015</td> <td>    7.468</td> <td> 0.000</td> <td>    0.083</td> <td>    0.144</td>\n",
       "</tr>\n",
       "<tr>\n",
       "  <th>Fuel.tank.capacity</th>  <td>    0.6133</td> <td>    0.305</td> <td>    2.011</td> <td> 0.047</td> <td>    0.007</td> <td>    1.220</td>\n",
       "</tr>\n",
       "<tr>\n",
       "  <th>Wheelbase</th>           <td>    0.4644</td> <td>    0.135</td> <td>    3.430</td> <td> 0.001</td> <td>    0.195</td> <td>    0.734</td>\n",
       "</tr>\n",
       "<tr>\n",
       "  <th>Width</th>               <td>   -1.4171</td> <td>    0.268</td> <td>   -5.283</td> <td> 0.000</td> <td>   -1.951</td> <td>   -0.884</td>\n",
       "</tr>\n",
       "<tr>\n",
       "  <th>Type_Midsize</th>        <td>    2.8692</td> <td>    1.244</td> <td>    2.307</td> <td> 0.024</td> <td>    0.396</td> <td>    5.342</td>\n",
       "</tr>\n",
       "<tr>\n",
       "  <th>AirBags_Driver only</th> <td>   -3.3025</td> <td>    1.435</td> <td>   -2.301</td> <td> 0.024</td> <td>   -6.157</td> <td>   -0.448</td>\n",
       "</tr>\n",
       "<tr>\n",
       "  <th>AirBags_None</th>        <td>   -6.1950</td> <td>    1.680</td> <td>   -3.687</td> <td> 0.000</td> <td>   -9.536</td> <td>   -2.854</td>\n",
       "</tr>\n",
       "<tr>\n",
       "  <th>DriveTrain_Rear</th>     <td>    4.6664</td> <td>    1.420</td> <td>    3.286</td> <td> 0.001</td> <td>    1.842</td> <td>    7.491</td>\n",
       "</tr>\n",
       "</table>\n",
       "<table class=\"simpletable\">\n",
       "<tr>\n",
       "  <th>Omnibus:</th>       <td>25.799</td> <th>  Durbin-Watson:     </th> <td>   1.931</td>\n",
       "</tr>\n",
       "<tr>\n",
       "  <th>Prob(Omnibus):</th> <td> 0.000</td> <th>  Jarque-Bera (JB):  </th> <td>  60.756</td>\n",
       "</tr>\n",
       "<tr>\n",
       "  <th>Skew:</th>          <td> 0.968</td> <th>  Prob(JB):          </th> <td>6.41e-14</td>\n",
       "</tr>\n",
       "<tr>\n",
       "  <th>Kurtosis:</th>      <td> 6.454</td> <th>  Cond. No.          </th> <td>5.50e+03</td>\n",
       "</tr>\n",
       "</table><br/><br/>Notes:<br/>[1] Standard Errors assume that the covariance matrix of the errors is correctly specified.<br/>[2] The condition number is large, 5.5e+03. This might indicate that there are<br/>strong multicollinearity or other numerical problems."
      ],
      "text/plain": [
       "<class 'statsmodels.iolib.summary.Summary'>\n",
       "\"\"\"\n",
       "                            OLS Regression Results                            \n",
       "==============================================================================\n",
       "Dep. Variable:                  Price   R-squared:                       0.792\n",
       "Model:                            OLS   Adj. R-squared:                  0.773\n",
       "Method:                 Least Squares   F-statistic:                     40.08\n",
       "Date:                Fri, 06 May 2022   Prob (F-statistic):           1.51e-25\n",
       "Time:                        14:41:59   Log-Likelihood:                -269.27\n",
       "No. Observations:                  93   AIC:                             556.5\n",
       "Df Residuals:                      84   BIC:                             579.3\n",
       "Df Model:                           8                                         \n",
       "Covariance Type:            nonrobust                                         \n",
       "=======================================================================================\n",
       "                          coef    std err          t      P>|t|      [0.025      0.975]\n",
       "---------------------------------------------------------------------------------------\n",
       "const                  45.2793     13.385      3.383      0.001      18.662      71.897\n",
       "Horsepower              0.1137      0.015      7.468      0.000       0.083       0.144\n",
       "Fuel.tank.capacity      0.6133      0.305      2.011      0.047       0.007       1.220\n",
       "Wheelbase               0.4644      0.135      3.430      0.001       0.195       0.734\n",
       "Width                  -1.4171      0.268     -5.283      0.000      -1.951      -0.884\n",
       "Type_Midsize            2.8692      1.244      2.307      0.024       0.396       5.342\n",
       "AirBags_Driver only    -3.3025      1.435     -2.301      0.024      -6.157      -0.448\n",
       "AirBags_None           -6.1950      1.680     -3.687      0.000      -9.536      -2.854\n",
       "DriveTrain_Rear         4.6664      1.420      3.286      0.001       1.842       7.491\n",
       "==============================================================================\n",
       "Omnibus:                       25.799   Durbin-Watson:                   1.931\n",
       "Prob(Omnibus):                  0.000   Jarque-Bera (JB):               60.756\n",
       "Skew:                           0.968   Prob(JB):                     6.41e-14\n",
       "Kurtosis:                       6.454   Cond. No.                     5.50e+03\n",
       "==============================================================================\n",
       "\n",
       "Notes:\n",
       "[1] Standard Errors assume that the covariance matrix of the errors is correctly specified.\n",
       "[2] The condition number is large, 5.5e+03. This might indicate that there are\n",
       "strong multicollinearity or other numerical problems.\n",
       "\"\"\""
      ]
     },
     "execution_count": 87,
     "metadata": {},
     "output_type": "execute_result"
    }
   ],
   "source": [
    "model2.summary()"
   ]
  },
  {
   "cell_type": "code",
   "execution_count": 88,
   "metadata": {
    "id": "U8Wr1_kpPvDX"
   },
   "outputs": [],
   "source": [
    "from sklearn.model_selection import train_test_split,cross_val_score,KFold\n",
    "from sklearn import metrics"
   ]
  },
  {
   "cell_type": "code",
   "execution_count": 89,
   "metadata": {
    "id": "yTK8YttLnJml"
   },
   "outputs": [],
   "source": [
    "LR=LinearRegression()"
   ]
  },
  {
   "cell_type": "code",
   "execution_count": 90,
   "metadata": {
    "id": "yXrCAs6ZQ0X1"
   },
   "outputs": [],
   "source": [
    "xtrain,xtest,ytrain,ytest=train_test_split(X_new,Y,test_size=.3,random_state=0)"
   ]
  },
  {
   "cell_type": "code",
   "execution_count": 91,
   "metadata": {
    "colab": {
     "base_uri": "https://localhost:8080/"
    },
    "executionInfo": {
     "elapsed": 418,
     "status": "ok",
     "timestamp": 1649591554971,
     "user": {
      "displayName": "Mahesh Anand",
      "userId": "06788086636039591358"
     },
     "user_tz": -330
    },
    "id": "hUOp9d-fQ1Hf",
    "outputId": "3d4ce816-bf8c-4c49-a252-c47177aadcce"
   },
   "outputs": [
    {
     "name": "stdout",
     "output_type": "stream",
     "text": [
      "4.418244915318324\n"
     ]
    }
   ],
   "source": [
    "LR.fit(xtrain,ytrain)\n",
    "y_pred_test=LR.predict(xtest)\n",
    "mse=metrics.mean_squared_error(ytest,y_pred_test)\n",
    "rmse_test=np.sqrt(mse)\n",
    "print(rmse_test)"
   ]
  },
  {
   "cell_type": "code",
   "execution_count": 92,
   "metadata": {
    "colab": {
     "base_uri": "https://localhost:8080/"
    },
    "executionInfo": {
     "elapsed": 379,
     "status": "ok",
     "timestamp": 1649591630469,
     "user": {
      "displayName": "Mahesh Anand",
      "userId": "06788086636039591358"
     },
     "user_tz": -330
    },
    "id": "cQsgduEoUcLq",
    "outputId": "6971ffe1-8c0f-4198-9b2f-61067a7773cb"
   },
   "outputs": [
    {
     "name": "stdout",
     "output_type": "stream",
     "text": [
      "4.512824771597362\n"
     ]
    }
   ],
   "source": [
    "y_pred_train=LR.predict(xtrain)\n",
    "mse=metrics.mean_squared_error(ytrain,y_pred_train)\n",
    "rmse_train=np.sqrt(mse)\n",
    "print(rmse_train)"
   ]
  },
  {
   "cell_type": "code",
   "execution_count": 93,
   "metadata": {
    "id": "57GbkMiIQ1Ub"
   },
   "outputs": [],
   "source": [
    "#since testrmse>trainrmse, slightly model overfits"
   ]
  },
  {
   "cell_type": "code",
   "execution_count": 94,
   "metadata": {
    "id": "EXrNfgG6VKll"
   },
   "outputs": [],
   "source": [
    "#k-fold cross validation"
   ]
  },
  {
   "cell_type": "code",
   "execution_count": 95,
   "metadata": {
    "colab": {
     "base_uri": "https://localhost:8080/"
    },
    "executionInfo": {
     "elapsed": 671,
     "status": "ok",
     "timestamp": 1649592194723,
     "user": {
      "displayName": "Mahesh Anand",
      "userId": "06788086636039591358"
     },
     "user_tz": -330
    },
    "id": "XK_rWYEBVOSj",
    "outputId": "53a1b02e-d7e0-4ace-d868-d9aaf2b50cb4"
   },
   "outputs": [
    {
     "name": "stdout",
     "output_type": "stream",
     "text": [
      "[-4.20230012 -4.84075167 -6.15252864]\n"
     ]
    }
   ],
   "source": [
    "kf=KFold(n_splits=3,shuffle=True,random_state=0)\n",
    "scores=cross_val_score(LR,X_new,Y,cv=kf,scoring='neg_root_mean_squared_error')\n",
    "print(scores)"
   ]
  },
  {
   "cell_type": "code",
   "execution_count": 96,
   "metadata": {
    "colab": {
     "base_uri": "https://localhost:8080/"
    },
    "executionInfo": {
     "elapsed": 382,
     "status": "ok",
     "timestamp": 1649592300171,
     "user": {
      "displayName": "Mahesh Anand",
      "userId": "06788086636039591358"
     },
     "user_tz": -330
    },
    "id": "jgabdM4IVOlx",
    "outputId": "c846d924-2b6f-4716-ef05-0c4dbb9789ca"
   },
   "outputs": [
    {
     "name": "stdout",
     "output_type": "stream",
     "text": [
      "Bias_Error 5.065193476244539\n",
      "Variance_Error 0.994297948644457\n"
     ]
    }
   ],
   "source": [
    "print('Bias_Error',np.mean(np.abs(scores)))\n",
    "print('Variance_Error',np.std(np.abs(scores),ddof=1))"
   ]
  },
  {
   "cell_type": "code",
   "execution_count": 97,
   "metadata": {
    "colab": {
     "base_uri": "https://localhost:8080/"
    },
    "executionInfo": {
     "elapsed": 527,
     "status": "ok",
     "timestamp": 1649592505176,
     "user": {
      "displayName": "Mahesh Anand",
      "userId": "06788086636039591358"
     },
     "user_tz": -330
    },
    "id": "2ZJUnlYBVOvR",
    "outputId": "d01a144d-03f4-43e7-dafd-ce4f6e2afad6"
   },
   "outputs": [
    {
     "data": {
      "text/plain": [
       "52.37440954443844"
      ]
     },
     "execution_count": 97,
     "metadata": {},
     "output_type": "execute_result"
    }
   ],
   "source": [
    "X_new['Horsepower'].std()"
   ]
  },
  {
   "cell_type": "code",
   "execution_count": 98,
   "metadata": {
    "colab": {
     "base_uri": "https://localhost:8080/"
    },
    "executionInfo": {
     "elapsed": 389,
     "status": "ok",
     "timestamp": 1649592608320,
     "user": {
      "displayName": "Mahesh Anand",
      "userId": "06788086636039591358"
     },
     "user_tz": -330
    },
    "id": "_pCGlsIBQ1fM",
    "outputId": "a8cbba31-9fbf-47ae-8c4e-2fc7bf117f97"
   },
   "outputs": [
    {
     "data": {
      "text/plain": [
       "52.37440954443844"
      ]
     },
     "execution_count": 98,
     "metadata": {},
     "output_type": "execute_result"
    }
   ],
   "source": [
    "np.std(X_new['Horsepower'],ddof=1)"
   ]
  },
  {
   "cell_type": "code",
   "execution_count": null,
   "metadata": {
    "id": "EIaEJ3RKQ1p2"
   },
   "outputs": [],
   "source": []
  },
  {
   "cell_type": "code",
   "execution_count": null,
   "metadata": {
    "id": "-wr2AysqQ1zY"
   },
   "outputs": [],
   "source": []
  },
  {
   "cell_type": "code",
   "execution_count": null,
   "metadata": {
    "id": "V9uZlhTPQ18l"
   },
   "outputs": [],
   "source": []
  },
  {
   "cell_type": "code",
   "execution_count": null,
   "metadata": {
    "id": "Sg4uSJWNQ2Ft"
   },
   "outputs": [],
   "source": []
  },
  {
   "cell_type": "code",
   "execution_count": null,
   "metadata": {
    "id": "vbQ4nrMTQ2QJ"
   },
   "outputs": [],
   "source": []
  },
  {
   "cell_type": "code",
   "execution_count": 99,
   "metadata": {
    "colab": {
     "base_uri": "https://localhost:8080/"
    },
    "executionInfo": {
     "elapsed": 332,
     "status": "ok",
     "timestamp": 1646205451168,
     "user": {
      "displayName": "Mahesh Anand",
      "photoUrl": "https://lh3.googleusercontent.com/a-/AOh14GgEjHTHmcE5H01IJo7KL2-QssgVKGBUBVq_Ch1n5Q=s64",
      "userId": "06788086636039591358"
     },
     "user_tz": -330
    },
    "id": "2tQLhTT3-g2y",
    "outputId": "85eca6ee-4a5e-4a57-d3ec-e365d5bb4e70"
   },
   "outputs": [
    {
     "name": "stdout",
     "output_type": "stream",
     "text": [
      "Bias_Error 5.065193476244539\n",
      "VAR_Error 0.994297948644457\n"
     ]
    }
   ],
   "source": [
    "kf=KFold(n_splits=3,shuffle=True,random_state=0)\n",
    "rmse=cross_val_score(LR,X_new,Y,cv=kf,scoring='neg_root_mean_squared_error')\n",
    "LR_be=np.mean(np.abs(rmse))\n",
    "LR_ve=np.std(np.abs(rmse),ddof=1)\n",
    "print('Bias_Error',LR_be)\n",
    "print('VAR_Error',LR_ve)"
   ]
  },
  {
   "cell_type": "code",
   "execution_count": 100,
   "metadata": {
    "colab": {
     "base_uri": "https://localhost:8080/"
    },
    "executionInfo": {
     "elapsed": 3,
     "status": "ok",
     "timestamp": 1646205566946,
     "user": {
      "displayName": "Mahesh Anand",
      "photoUrl": "https://lh3.googleusercontent.com/a-/AOh14GgEjHTHmcE5H01IJo7KL2-QssgVKGBUBVq_Ch1n5Q=s64",
      "userId": "06788086636039591358"
     },
     "user_tz": -330
    },
    "id": "i4usgv2zf3EE",
    "outputId": "0f8101c8-090e-4c04-d817-77d441b80df8"
   },
   "outputs": [
    {
     "data": {
      "text/plain": [
       "array([-4.20230012, -4.84075167, -6.15252864])"
      ]
     },
     "execution_count": 100,
     "metadata": {},
     "output_type": "execute_result"
    }
   ],
   "source": [
    "rmse"
   ]
  },
  {
   "cell_type": "code",
   "execution_count": 101,
   "metadata": {
    "colab": {
     "base_uri": "https://localhost:8080/"
    },
    "executionInfo": {
     "elapsed": 311,
     "status": "ok",
     "timestamp": 1646205672594,
     "user": {
      "displayName": "Mahesh Anand",
      "photoUrl": "https://lh3.googleusercontent.com/a-/AOh14GgEjHTHmcE5H01IJo7KL2-QssgVKGBUBVq_Ch1n5Q=s64",
      "userId": "06788086636039591358"
     },
     "user_tz": -330
    },
    "id": "KZ884BYggFuu",
    "outputId": "2478f9f1-9226-4e45-a894-44a6279bfdee"
   },
   "outputs": [
    {
     "data": {
      "text/plain": [
       "52.37440954443844"
      ]
     },
     "execution_count": 101,
     "metadata": {},
     "output_type": "execute_result"
    }
   ],
   "source": [
    "X_new['Horsepower'].std()"
   ]
  },
  {
   "cell_type": "code",
   "execution_count": 102,
   "metadata": {
    "colab": {
     "base_uri": "https://localhost:8080/"
    },
    "executionInfo": {
     "elapsed": 316,
     "status": "ok",
     "timestamp": 1646205796657,
     "user": {
      "displayName": "Mahesh Anand",
      "photoUrl": "https://lh3.googleusercontent.com/a-/AOh14GgEjHTHmcE5H01IJo7KL2-QssgVKGBUBVq_Ch1n5Q=s64",
      "userId": "06788086636039591358"
     },
     "user_tz": -330
    },
    "id": "OyafHm24-kQY",
    "outputId": "df5af3f3-2126-4450-8eb0-2a51995a1deb"
   },
   "outputs": [
    {
     "data": {
      "text/plain": [
       "52.37440954443844"
      ]
     },
     "execution_count": 102,
     "metadata": {},
     "output_type": "execute_result"
    }
   ],
   "source": [
    "np.std(X_new['Horsepower'],ddof=1)"
   ]
  },
  {
   "cell_type": "code",
   "execution_count": null,
   "metadata": {
    "id": "B0P9Ngmb-kVF"
   },
   "outputs": [],
   "source": []
  },
  {
   "cell_type": "code",
   "execution_count": null,
   "metadata": {
    "id": "sDh8zPrG-kZF"
   },
   "outputs": [],
   "source": []
  },
  {
   "cell_type": "code",
   "execution_count": 103,
   "metadata": {
    "colab": {
     "base_uri": "https://localhost:8080/"
    },
    "executionInfo": {
     "elapsed": 453,
     "status": "ok",
     "timestamp": 1624273713055,
     "user": {
      "displayName": "Mahesh Anand",
      "photoUrl": "https://lh3.googleusercontent.com/a-/AOh14GgKd7FxLgzXO0MxUwypCgML3QfaeTdE0nT8cpHwLQ=s64",
      "userId": "06788086636039591358"
     },
     "user_tz": -330
    },
    "id": "7PiZK41ZPqHH",
    "outputId": "3bf4936c-1d32-42d3-b80c-de2aaad72b0d"
   },
   "outputs": [
    {
     "data": {
      "text/plain": [
       "((65, 8), (28, 8), (65,), (28,))"
      ]
     },
     "execution_count": 103,
     "metadata": {},
     "output_type": "execute_result"
    }
   ],
   "source": [
    "xtrain,xtest,ytrain,ytest=train_test_split(X_new,Y,test_size=0.3,random_state=0)\n",
    "xtrain.shape,xtest.shape,ytrain.shape,ytest.shape"
   ]
  },
  {
   "cell_type": "code",
   "execution_count": 104,
   "metadata": {
    "id": "o5zpAq_7Pqm4"
   },
   "outputs": [],
   "source": [
    "from sklearn.linear_model import LinearRegression,LogisticRegression\n",
    "from sklearn import metrics"
   ]
  },
  {
   "cell_type": "code",
   "execution_count": 105,
   "metadata": {
    "colab": {
     "base_uri": "https://localhost:8080/"
    },
    "executionInfo": {
     "elapsed": 431,
     "status": "ok",
     "timestamp": 1624274053837,
     "user": {
      "displayName": "Mahesh Anand",
      "photoUrl": "https://lh3.googleusercontent.com/a-/AOh14GgKd7FxLgzXO0MxUwypCgML3QfaeTdE0nT8cpHwLQ=s64",
      "userId": "06788086636039591358"
     },
     "user_tz": -330
    },
    "id": "ZTRXYitfPqp-",
    "outputId": "6e0a4f6c-f0a9-469a-f08e-d18e6b871558"
   },
   "outputs": [
    {
     "data": {
      "text/plain": [
       "array([23.27062614,  5.29583001, 17.31564193, 13.25077206, 21.58900715,\n",
       "       33.47719517,  8.39321181, 10.02622304, 19.9748852 , 18.56696543,\n",
       "       10.57714122, 25.02335049, 34.00345247, 24.5817835 , 10.30048889,\n",
       "       11.9976426 , 22.14282241,  9.86697138, 17.37021062, 30.76890986,\n",
       "       17.54220178, 27.03894636, 14.684678  , 18.2385048 , 14.08399776,\n",
       "        8.97462831, 14.35418502, 25.65838186])"
      ]
     },
     "execution_count": 105,
     "metadata": {},
     "output_type": "execute_result"
    }
   ],
   "source": [
    "LR=LinearRegression()\n",
    "LR.fit(xtrain,ytrain)\n",
    "y_pred_test=LR.predict(xtest)\n",
    "y_pred_test"
   ]
  },
  {
   "cell_type": "code",
   "execution_count": 106,
   "metadata": {
    "colab": {
     "base_uri": "https://localhost:8080/"
    },
    "executionInfo": {
     "elapsed": 4,
     "status": "ok",
     "timestamp": 1624274055213,
     "user": {
      "displayName": "Mahesh Anand",
      "photoUrl": "https://lh3.googleusercontent.com/a-/AOh14GgKd7FxLgzXO0MxUwypCgML3QfaeTdE0nT8cpHwLQ=s64",
      "userId": "06788086636039591358"
     },
     "user_tz": -330
    },
    "id": "ujXhzPzTPqth",
    "outputId": "6ce082d9-f469-4692-9900-481ccab369ef"
   },
   "outputs": [
    {
     "name": "stdout",
     "output_type": "stream",
     "text": [
      "4.418244915318324\n"
     ]
    }
   ],
   "source": [
    "#RMSE for test record\n",
    "mse_test=metrics.mean_squared_error(ytest,y_pred_test)\n",
    "rmse_test=np.sqrt(mse_test)\n",
    "print(rmse_test)"
   ]
  },
  {
   "cell_type": "code",
   "execution_count": 107,
   "metadata": {
    "colab": {
     "base_uri": "https://localhost:8080/"
    },
    "executionInfo": {
     "elapsed": 452,
     "status": "ok",
     "timestamp": 1624274127496,
     "user": {
      "displayName": "Mahesh Anand",
      "photoUrl": "https://lh3.googleusercontent.com/a-/AOh14GgKd7FxLgzXO0MxUwypCgML3QfaeTdE0nT8cpHwLQ=s64",
      "userId": "06788086636039591358"
     },
     "user_tz": -330
    },
    "id": "Xw5Uh-qzQ8Kt",
    "outputId": "ed1aeb65-0561-4384-c0ae-3bbc04312130"
   },
   "outputs": [
    {
     "name": "stdout",
     "output_type": "stream",
     "text": [
      "4.512824771597362\n"
     ]
    }
   ],
   "source": [
    "y_pred_train=LR.predict(xtrain)\n",
    "#RMSE for train record\n",
    "mse_train=metrics.mean_squared_error(ytrain,y_pred_train)\n",
    "rmse_train=np.sqrt(mse_train)\n",
    "print(rmse_train)"
   ]
  },
  {
   "cell_type": "code",
   "execution_count": 108,
   "metadata": {
    "colab": {
     "base_uri": "https://localhost:8080/"
    },
    "executionInfo": {
     "elapsed": 451,
     "status": "ok",
     "timestamp": 1624274696025,
     "user": {
      "displayName": "Mahesh Anand",
      "photoUrl": "https://lh3.googleusercontent.com/a-/AOh14GgKd7FxLgzXO0MxUwypCgML3QfaeTdE0nT8cpHwLQ=s64",
      "userId": "06788086636039591358"
     },
     "user_tz": -330
    },
    "id": "DcR7S6ISR2se",
    "outputId": "b4c0f65a-9b11-49d2-cfe6-18231786f3f9"
   },
   "outputs": [
    {
     "name": "stdout",
     "output_type": "stream",
     "text": [
      "Bias_Error 5.065193476244539\n",
      "Var_Error 0.994297948644457\n"
     ]
    }
   ],
   "source": [
    "LR=LinearRegression()\n",
    "from sklearn.model_selection import cross_val_score,KFold\n",
    "kf=KFold(n_splits=3,shuffle=True,random_state=0) #explicit definition\n",
    "mse=cross_val_score(LR,X_new,Y,cv=kf,scoring='neg_mean_squared_error')\n",
    "rmse=np.sqrt(np.abs(mse))\n",
    "rmse_avg=np.mean(rmse)\n",
    "rmse_sd=np.std(rmse,ddof=1)\n",
    "print('Bias_Error',rmse_avg)\n",
    "print('Var_Error',rmse_sd)"
   ]
  },
  {
   "cell_type": "code",
   "execution_count": 109,
   "metadata": {
    "colab": {
     "base_uri": "https://localhost:8080/"
    },
    "executionInfo": {
     "elapsed": 430,
     "status": "ok",
     "timestamp": 1624274704182,
     "user": {
      "displayName": "Mahesh Anand",
      "photoUrl": "https://lh3.googleusercontent.com/a-/AOh14GgKd7FxLgzXO0MxUwypCgML3QfaeTdE0nT8cpHwLQ=s64",
      "userId": "06788086636039591358"
     },
     "user_tz": -330
    },
    "id": "13qTA3mSUQJw",
    "outputId": "4c17e9d7-88c7-4c18-da6f-e9c044534520"
   },
   "outputs": [
    {
     "data": {
      "text/plain": [
       "array([4.20230012, 4.84075167, 6.15252864])"
      ]
     },
     "execution_count": 109,
     "metadata": {},
     "output_type": "execute_result"
    }
   ],
   "source": [
    "rmse"
   ]
  }
 ],
 "metadata": {
  "colab": {
   "collapsed_sections": [],
   "name": "car_price_prediction_LR_complete_code.ipynb",
   "provenance": []
  },
  "kernelspec": {
   "display_name": "Python 3 (ipykernel)",
   "language": "python",
   "name": "python3"
  },
  "language_info": {
   "codemirror_mode": {
    "name": "ipython",
    "version": 3
   },
   "file_extension": ".py",
   "mimetype": "text/x-python",
   "name": "python",
   "nbconvert_exporter": "python",
   "pygments_lexer": "ipython3",
   "version": "3.9.7"
  }
 },
 "nbformat": 4,
 "nbformat_minor": 1
}
